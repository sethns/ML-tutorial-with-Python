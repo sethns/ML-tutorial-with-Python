{
 "cells": [
  {
   "cell_type": "markdown",
   "metadata": {},
   "source": [
    "### 1. Importing Libraries "
   ]
  },
  {
   "cell_type": "code",
   "execution_count": 3,
   "metadata": {},
   "outputs": [],
   "source": [
    "# 'os' module provides functions for interacting with the operating system \n",
    "import os\n",
    "\n",
    "# 'Numpy' is used for mathematical operations on large, multi-dimensional arrays and matrices\n",
    "import numpy as np\n",
    "\n",
    "# 'Pandas' is used for data manipulation and analysis\n",
    "import pandas as pd\n",
    "\n",
    "# 'Matplotlib' is a data visualization library for 2D and 3D plots, built on numpy\n",
    "from matplotlib import pyplot as plt\n",
    "%matplotlib inline\n",
    "\n",
    "# 'Seaborn' is based on matplotlib; used for plotting statistical graphics\n",
    "import seaborn as sns\n",
    "\n",
    "# to suppress warnings\n",
    "import warnings\n",
    "warnings.filterwarnings(\"ignore\") "
   ]
  },
  {
   "cell_type": "markdown",
   "metadata": {},
   "source": [
    "### 2. Importing and Exploration of the dataset"
   ]
  },
  {
   "cell_type": "code",
   "execution_count": 5,
   "metadata": {},
   "outputs": [],
   "source": [
    "# load tips data:\n",
    "\n",
    "df = sns.load_dataset('tips')"
   ]
  },
  {
   "cell_type": "code",
   "execution_count": 7,
   "metadata": {
    "scrolled": true
   },
   "outputs": [
    {
     "data": {
      "text/html": [
       "<div>\n",
       "<style scoped>\n",
       "    .dataframe tbody tr th:only-of-type {\n",
       "        vertical-align: middle;\n",
       "    }\n",
       "\n",
       "    .dataframe tbody tr th {\n",
       "        vertical-align: top;\n",
       "    }\n",
       "\n",
       "    .dataframe thead th {\n",
       "        text-align: right;\n",
       "    }\n",
       "</style>\n",
       "<table border=\"1\" class=\"dataframe\">\n",
       "  <thead>\n",
       "    <tr style=\"text-align: right;\">\n",
       "      <th></th>\n",
       "      <th>total_bill</th>\n",
       "      <th>tip</th>\n",
       "      <th>sex</th>\n",
       "      <th>smoker</th>\n",
       "      <th>day</th>\n",
       "      <th>time</th>\n",
       "      <th>size</th>\n",
       "    </tr>\n",
       "  </thead>\n",
       "  <tbody>\n",
       "    <tr>\n",
       "      <th>0</th>\n",
       "      <td>16.99</td>\n",
       "      <td>1.01</td>\n",
       "      <td>Female</td>\n",
       "      <td>No</td>\n",
       "      <td>Sun</td>\n",
       "      <td>Dinner</td>\n",
       "      <td>2</td>\n",
       "    </tr>\n",
       "    <tr>\n",
       "      <th>1</th>\n",
       "      <td>10.34</td>\n",
       "      <td>1.66</td>\n",
       "      <td>Male</td>\n",
       "      <td>No</td>\n",
       "      <td>Sun</td>\n",
       "      <td>Dinner</td>\n",
       "      <td>3</td>\n",
       "    </tr>\n",
       "    <tr>\n",
       "      <th>2</th>\n",
       "      <td>21.01</td>\n",
       "      <td>3.50</td>\n",
       "      <td>Male</td>\n",
       "      <td>No</td>\n",
       "      <td>Sun</td>\n",
       "      <td>Dinner</td>\n",
       "      <td>3</td>\n",
       "    </tr>\n",
       "    <tr>\n",
       "      <th>3</th>\n",
       "      <td>23.68</td>\n",
       "      <td>3.31</td>\n",
       "      <td>Male</td>\n",
       "      <td>No</td>\n",
       "      <td>Sun</td>\n",
       "      <td>Dinner</td>\n",
       "      <td>2</td>\n",
       "    </tr>\n",
       "    <tr>\n",
       "      <th>4</th>\n",
       "      <td>24.59</td>\n",
       "      <td>3.61</td>\n",
       "      <td>Female</td>\n",
       "      <td>No</td>\n",
       "      <td>Sun</td>\n",
       "      <td>Dinner</td>\n",
       "      <td>4</td>\n",
       "    </tr>\n",
       "  </tbody>\n",
       "</table>\n",
       "</div>"
      ],
      "text/plain": [
       "   total_bill   tip     sex smoker  day    time  size\n",
       "0       16.99  1.01  Female     No  Sun  Dinner     2\n",
       "1       10.34  1.66    Male     No  Sun  Dinner     3\n",
       "2       21.01  3.50    Male     No  Sun  Dinner     3\n",
       "3       23.68  3.31    Male     No  Sun  Dinner     2\n",
       "4       24.59  3.61  Female     No  Sun  Dinner     4"
      ]
     },
     "execution_count": 7,
     "metadata": {},
     "output_type": "execute_result"
    }
   ],
   "source": [
    "# # showing the first rows of the dataset:\n",
    "df.head()"
   ]
  },
  {
   "cell_type": "code",
   "execution_count": 8,
   "metadata": {},
   "outputs": [
    {
     "data": {
      "text/plain": [
       "(244, 7)"
      ]
     },
     "execution_count": 8,
     "metadata": {},
     "output_type": "execute_result"
    }
   ],
   "source": [
    "# To check the Dimensions of the dataset:\n",
    "df.shape"
   ]
  },
  {
   "cell_type": "code",
   "execution_count": 10,
   "metadata": {},
   "outputs": [
    {
     "name": "stdout",
     "output_type": "stream",
     "text": [
      "<class 'pandas.core.frame.DataFrame'>\n",
      "RangeIndex: 244 entries, 0 to 243\n",
      "Data columns (total 7 columns):\n",
      " #   Column      Non-Null Count  Dtype   \n",
      "---  ------      --------------  -----   \n",
      " 0   total_bill  244 non-null    float64 \n",
      " 1   tip         244 non-null    float64 \n",
      " 2   sex         244 non-null    category\n",
      " 3   smoker      244 non-null    category\n",
      " 4   day         244 non-null    category\n",
      " 5   time        244 non-null    category\n",
      " 6   size        244 non-null    int64   \n",
      "dtypes: category(4), float64(2), int64(1)\n",
      "memory usage: 7.3 KB\n"
     ]
    }
   ],
   "source": [
    "# Checking the info of the data:\n",
    "df.info()"
   ]
  },
  {
   "cell_type": "code",
   "execution_count": 12,
   "metadata": {},
   "outputs": [
    {
     "data": {
      "text/plain": [
       "total_bill     float64\n",
       "tip            float64\n",
       "sex           category\n",
       "smoker        category\n",
       "day           category\n",
       "time          category\n",
       "size             int64\n",
       "dtype: object"
      ]
     },
     "execution_count": 12,
     "metadata": {},
     "output_type": "execute_result"
    }
   ],
   "source": [
    "# Checking the datatypes of the data:\n",
    "df.dtypes"
   ]
  },
  {
   "cell_type": "code",
   "execution_count": 13,
   "metadata": {},
   "outputs": [
    {
     "data": {
      "text/html": [
       "<div>\n",
       "<style scoped>\n",
       "    .dataframe tbody tr th:only-of-type {\n",
       "        vertical-align: middle;\n",
       "    }\n",
       "\n",
       "    .dataframe tbody tr th {\n",
       "        vertical-align: top;\n",
       "    }\n",
       "\n",
       "    .dataframe thead th {\n",
       "        text-align: right;\n",
       "    }\n",
       "</style>\n",
       "<table border=\"1\" class=\"dataframe\">\n",
       "  <thead>\n",
       "    <tr style=\"text-align: right;\">\n",
       "      <th></th>\n",
       "      <th>total_bill</th>\n",
       "      <th>tip</th>\n",
       "      <th>size</th>\n",
       "    </tr>\n",
       "  </thead>\n",
       "  <tbody>\n",
       "    <tr>\n",
       "      <th>count</th>\n",
       "      <td>244.000000</td>\n",
       "      <td>244.000000</td>\n",
       "      <td>244.000000</td>\n",
       "    </tr>\n",
       "    <tr>\n",
       "      <th>mean</th>\n",
       "      <td>19.785943</td>\n",
       "      <td>2.998279</td>\n",
       "      <td>2.569672</td>\n",
       "    </tr>\n",
       "    <tr>\n",
       "      <th>std</th>\n",
       "      <td>8.902412</td>\n",
       "      <td>1.383638</td>\n",
       "      <td>0.951100</td>\n",
       "    </tr>\n",
       "    <tr>\n",
       "      <th>min</th>\n",
       "      <td>3.070000</td>\n",
       "      <td>1.000000</td>\n",
       "      <td>1.000000</td>\n",
       "    </tr>\n",
       "    <tr>\n",
       "      <th>25%</th>\n",
       "      <td>13.347500</td>\n",
       "      <td>2.000000</td>\n",
       "      <td>2.000000</td>\n",
       "    </tr>\n",
       "    <tr>\n",
       "      <th>50%</th>\n",
       "      <td>17.795000</td>\n",
       "      <td>2.900000</td>\n",
       "      <td>2.000000</td>\n",
       "    </tr>\n",
       "    <tr>\n",
       "      <th>75%</th>\n",
       "      <td>24.127500</td>\n",
       "      <td>3.562500</td>\n",
       "      <td>3.000000</td>\n",
       "    </tr>\n",
       "    <tr>\n",
       "      <th>max</th>\n",
       "      <td>50.810000</td>\n",
       "      <td>10.000000</td>\n",
       "      <td>6.000000</td>\n",
       "    </tr>\n",
       "  </tbody>\n",
       "</table>\n",
       "</div>"
      ],
      "text/plain": [
       "       total_bill         tip        size\n",
       "count  244.000000  244.000000  244.000000\n",
       "mean    19.785943    2.998279    2.569672\n",
       "std      8.902412    1.383638    0.951100\n",
       "min      3.070000    1.000000    1.000000\n",
       "25%     13.347500    2.000000    2.000000\n",
       "50%     17.795000    2.900000    2.000000\n",
       "75%     24.127500    3.562500    3.000000\n",
       "max     50.810000   10.000000    6.000000"
      ]
     },
     "execution_count": 13,
     "metadata": {},
     "output_type": "execute_result"
    }
   ],
   "source": [
    "# Summary Statistics for Numerical data:\n",
    "df.describe()"
   ]
  },
  {
   "cell_type": "code",
   "execution_count": 14,
   "metadata": {},
   "outputs": [
    {
     "data": {
      "text/html": [
       "<div>\n",
       "<style scoped>\n",
       "    .dataframe tbody tr th:only-of-type {\n",
       "        vertical-align: middle;\n",
       "    }\n",
       "\n",
       "    .dataframe tbody tr th {\n",
       "        vertical-align: top;\n",
       "    }\n",
       "\n",
       "    .dataframe thead th {\n",
       "        text-align: right;\n",
       "    }\n",
       "</style>\n",
       "<table border=\"1\" class=\"dataframe\">\n",
       "  <thead>\n",
       "    <tr style=\"text-align: right;\">\n",
       "      <th></th>\n",
       "      <th>sex</th>\n",
       "      <th>smoker</th>\n",
       "      <th>day</th>\n",
       "      <th>time</th>\n",
       "    </tr>\n",
       "  </thead>\n",
       "  <tbody>\n",
       "    <tr>\n",
       "      <th>count</th>\n",
       "      <td>244</td>\n",
       "      <td>244</td>\n",
       "      <td>244</td>\n",
       "      <td>244</td>\n",
       "    </tr>\n",
       "    <tr>\n",
       "      <th>unique</th>\n",
       "      <td>2</td>\n",
       "      <td>2</td>\n",
       "      <td>4</td>\n",
       "      <td>2</td>\n",
       "    </tr>\n",
       "    <tr>\n",
       "      <th>top</th>\n",
       "      <td>Male</td>\n",
       "      <td>No</td>\n",
       "      <td>Sat</td>\n",
       "      <td>Dinner</td>\n",
       "    </tr>\n",
       "    <tr>\n",
       "      <th>freq</th>\n",
       "      <td>157</td>\n",
       "      <td>151</td>\n",
       "      <td>87</td>\n",
       "      <td>176</td>\n",
       "    </tr>\n",
       "  </tbody>\n",
       "</table>\n",
       "</div>"
      ],
      "text/plain": [
       "         sex smoker  day    time\n",
       "count    244    244  244     244\n",
       "unique     2      2    4       2\n",
       "top     Male     No  Sat  Dinner\n",
       "freq     157    151   87     176"
      ]
     },
     "execution_count": 14,
     "metadata": {},
     "output_type": "execute_result"
    }
   ],
   "source": [
    "# Summary Statistics for Categorical data:\n",
    "df.describe(exclude=[np.number])"
   ]
  },
  {
   "cell_type": "markdown",
   "metadata": {},
   "source": [
    "### 3. Missing Values"
   ]
  },
  {
   "cell_type": "code",
   "execution_count": 16,
   "metadata": {},
   "outputs": [
    {
     "data": {
      "text/plain": [
       "total_bill    0\n",
       "tip           0\n",
       "sex           0\n",
       "smoker        0\n",
       "day           0\n",
       "time          0\n",
       "size          0\n",
       "dtype: int64"
      ]
     },
     "execution_count": 16,
     "metadata": {},
     "output_type": "execute_result"
    }
   ],
   "source": [
    "# use isnull().sum() to check for missing values \n",
    "df.isnull().sum() "
   ]
  },
  {
   "cell_type": "markdown",
   "metadata": {},
   "source": [
    "There are no missing values in the data. \n",
    "\n",
    "If there are missing values in the data then either impute these missing values with median or mean for the numerical datatype or can impute using mode for categorical variables. \n",
    "\n",
    "There is also an inbuilt function in Sci-kit Learn library called Iterative Imputer that can be called to impute the missing values. Its sklearn domcumentation: https://scikit-learn.org/stable/modules/generated/sklearn.impute.IterativeImputer.html"
   ]
  },
  {
   "cell_type": "markdown",
   "metadata": {},
   "source": [
    "----------------"
   ]
  },
  {
   "cell_type": "markdown",
   "metadata": {},
   "source": [
    "### 4. Outliers Treatment\n",
    "\n",
    "To check for the presence of outliers, we plot Boxplot."
   ]
  },
  {
   "cell_type": "code",
   "execution_count": 20,
   "metadata": {},
   "outputs": [
    {
     "data": {
      "image/png": "[encoded data removed]",
      "text/plain": [
       "<Figure size 432x288 with 1 Axes>"
      ]
     },
     "metadata": {
      "needs_background": "light"
     },
     "output_type": "display_data"
    }
   ],
   "source": [
    "# For Total_bill \n",
    "df['total_bill'].plot(kind='box')\n",
    "plt.show()"
   ]
  },
  {
   "cell_type": "code",
   "execution_count": 21,
   "metadata": {},
   "outputs": [
    {
     "data": {
      "image/png": "[encoded data removed]",
      "text/plain": [
       "<Figure size 432x288 with 1 Axes>"
      ]
     },
     "metadata": {
      "needs_background": "light"
     },
     "output_type": "display_data"
    }
   ],
   "source": [
    "# For Total_bill \n",
    "df['tip'].plot(kind='box')\n",
    "plt.show()"
   ]
  },
  {
   "cell_type": "code",
   "execution_count": 22,
   "metadata": {},
   "outputs": [
    {
     "data": {
      "image/png": "[encoded data removed]",
      "text/plain": [
       "<Figure size 432x288 with 1 Axes>"
      ]
     },
     "metadata": {
      "needs_background": "light"
     },
     "output_type": "display_data"
    }
   ],
   "source": [
    "# For Total_bill \n",
    "df['size'].plot(kind='box')\n",
    "plt.show()"
   ]
  },
  {
   "cell_type": "markdown",
   "metadata": {},
   "source": [
    "We can see that there are outliers present in all Total_bill, tip and size. To treat for outliers can either cap the values or transform the data. Shall demonstrate both the approaches here. "
   ]
  },
  {
   "cell_type": "markdown",
   "metadata": {},
   "source": [
    "### 5. Transformation\n",
    "\n",
    "### 5a. SQRT transformation "
   ]
  },
  {
   "cell_type": "code",
   "execution_count": 25,
   "metadata": {},
   "outputs": [],
   "source": [
    "df['SQRT_TB'] = df['total_bill']**0.5"
   ]
  },
  {
   "cell_type": "code",
   "execution_count": 26,
   "metadata": {},
   "outputs": [],
   "source": [
    "df['sqrt tb'] = np.sqrt(df['total_bill'])"
   ]
  },
  {
   "cell_type": "code",
   "execution_count": 27,
   "metadata": {},
   "outputs": [
    {
     "data": {
      "text/html": [
       "<div>\n",
       "<style scoped>\n",
       "    .dataframe tbody tr th:only-of-type {\n",
       "        vertical-align: middle;\n",
       "    }\n",
       "\n",
       "    .dataframe tbody tr th {\n",
       "        vertical-align: top;\n",
       "    }\n",
       "\n",
       "    .dataframe thead th {\n",
       "        text-align: right;\n",
       "    }\n",
       "</style>\n",
       "<table border=\"1\" class=\"dataframe\">\n",
       "  <thead>\n",
       "    <tr style=\"text-align: right;\">\n",
       "      <th></th>\n",
       "      <th>total_bill</th>\n",
       "      <th>tip</th>\n",
       "      <th>sex</th>\n",
       "      <th>smoker</th>\n",
       "      <th>day</th>\n",
       "      <th>time</th>\n",
       "      <th>size</th>\n",
       "      <th>SQRT_TB</th>\n",
       "      <th>sqrt tb</th>\n",
       "    </tr>\n",
       "  </thead>\n",
       "  <tbody>\n",
       "    <tr>\n",
       "      <th>0</th>\n",
       "      <td>16.99</td>\n",
       "      <td>1.01</td>\n",
       "      <td>Female</td>\n",
       "      <td>No</td>\n",
       "      <td>Sun</td>\n",
       "      <td>Dinner</td>\n",
       "      <td>2</td>\n",
       "      <td>4.121893</td>\n",
       "      <td>4.121893</td>\n",
       "    </tr>\n",
       "    <tr>\n",
       "      <th>1</th>\n",
       "      <td>10.34</td>\n",
       "      <td>1.66</td>\n",
       "      <td>Male</td>\n",
       "      <td>No</td>\n",
       "      <td>Sun</td>\n",
       "      <td>Dinner</td>\n",
       "      <td>3</td>\n",
       "      <td>3.215587</td>\n",
       "      <td>3.215587</td>\n",
       "    </tr>\n",
       "    <tr>\n",
       "      <th>2</th>\n",
       "      <td>21.01</td>\n",
       "      <td>3.50</td>\n",
       "      <td>Male</td>\n",
       "      <td>No</td>\n",
       "      <td>Sun</td>\n",
       "      <td>Dinner</td>\n",
       "      <td>3</td>\n",
       "      <td>4.583667</td>\n",
       "      <td>4.583667</td>\n",
       "    </tr>\n",
       "    <tr>\n",
       "      <th>3</th>\n",
       "      <td>23.68</td>\n",
       "      <td>3.31</td>\n",
       "      <td>Male</td>\n",
       "      <td>No</td>\n",
       "      <td>Sun</td>\n",
       "      <td>Dinner</td>\n",
       "      <td>2</td>\n",
       "      <td>4.866210</td>\n",
       "      <td>4.866210</td>\n",
       "    </tr>\n",
       "    <tr>\n",
       "      <th>4</th>\n",
       "      <td>24.59</td>\n",
       "      <td>3.61</td>\n",
       "      <td>Female</td>\n",
       "      <td>No</td>\n",
       "      <td>Sun</td>\n",
       "      <td>Dinner</td>\n",
       "      <td>4</td>\n",
       "      <td>4.958831</td>\n",
       "      <td>4.958831</td>\n",
       "    </tr>\n",
       "  </tbody>\n",
       "</table>\n",
       "</div>"
      ],
      "text/plain": [
       "   total_bill   tip     sex smoker  day    time  size   SQRT_TB   sqrt tb\n",
       "0       16.99  1.01  Female     No  Sun  Dinner     2  4.121893  4.121893\n",
       "1       10.34  1.66    Male     No  Sun  Dinner     3  3.215587  3.215587\n",
       "2       21.01  3.50    Male     No  Sun  Dinner     3  4.583667  4.583667\n",
       "3       23.68  3.31    Male     No  Sun  Dinner     2  4.866210  4.866210\n",
       "4       24.59  3.61  Female     No  Sun  Dinner     4  4.958831  4.958831"
      ]
     },
     "execution_count": 27,
     "metadata": {},
     "output_type": "execute_result"
    }
   ],
   "source": [
    "df.head()"
   ]
  },
  {
   "cell_type": "code",
   "execution_count": 29,
   "metadata": {},
   "outputs": [
    {
     "name": "stdout",
     "output_type": "stream",
     "text": [
      "The skewness of the original data is 1.1332130376158205\n",
      "The kurtosis of the original data is 1.2184840156638854\n",
      "\n",
      "The skewness of the SQRT transformed data is 0.5661281592596766\n",
      "The kurtosis of the SQRT transformed data is 0.19520953466627722\n"
     ]
    }
   ],
   "source": [
    "#checking the skewness, kurtosis between the original and transformed data:\n",
    "print(\"The skewness of the original data is {}\".format(df.total_bill.skew()))\n",
    "print(\"The kurtosis of the original data is {}\".format(df.total_bill.kurt()))\n",
    "\n",
    "print('')\n",
    "\n",
    "print('The skewness of the SQRT transformed data is {}'.format(df.SQRT_TB.skew()))\n",
    "print(\"The kurtosis of the SQRT transformed data is {}\".format(df.SQRT_TB.kurt()))"
   ]
  },
  {
   "cell_type": "code",
   "execution_count": 30,
   "metadata": {},
   "outputs": [
    {
     "data": {
      "image/png": "[encoded data removed]",
      "text/plain": [
       "<Figure size 1080x360 with 2 Axes>"
      ]
     },
     "metadata": {
      "needs_background": "light"
     },
     "output_type": "display_data"
    }
   ],
   "source": [
    "# plotting the distribution\n",
    "\n",
    "fig, axes = plt.subplots(1,2, figsize=(15,5))\n",
    "sns.distplot(df['total_bill'], ax=axes[0])\n",
    "sns.distplot(df['sqrt tb'], ax=axes[1])\n",
    "\n",
    "plt.show()\n"
   ]
  },
  {
   "cell_type": "markdown",
   "metadata": {},
   "source": [
    "### Result:\n",
    "\n",
    "The Total Bill was right skewed earlier. The skewness and kurtosis as reduced significantly. Though the transformed SQRT total bill on the right graph still has some positive right tailed skewness."
   ]
  },
  {
   "cell_type": "markdown",
   "metadata": {},
   "source": [
    "### 5b. Log Transformation"
   ]
  },
  {
   "cell_type": "code",
   "execution_count": 31,
   "metadata": {},
   "outputs": [],
   "source": [
    "df['Log Tb'] = np.log(df['total_bill'])"
   ]
  },
  {
   "cell_type": "code",
   "execution_count": 32,
   "metadata": {},
   "outputs": [
    {
     "data": {
      "text/html": [
       "<div>\n",
       "<style scoped>\n",
       "    .dataframe tbody tr th:only-of-type {\n",
       "        vertical-align: middle;\n",
       "    }\n",
       "\n",
       "    .dataframe tbody tr th {\n",
       "        vertical-align: top;\n",
       "    }\n",
       "\n",
       "    .dataframe thead th {\n",
       "        text-align: right;\n",
       "    }\n",
       "</style>\n",
       "<table border=\"1\" class=\"dataframe\">\n",
       "  <thead>\n",
       "    <tr style=\"text-align: right;\">\n",
       "      <th></th>\n",
       "      <th>total_bill</th>\n",
       "      <th>tip</th>\n",
       "      <th>sex</th>\n",
       "      <th>smoker</th>\n",
       "      <th>day</th>\n",
       "      <th>time</th>\n",
       "      <th>size</th>\n",
       "      <th>SQRT_TB</th>\n",
       "      <th>sqrt tb</th>\n",
       "      <th>Log Tb</th>\n",
       "    </tr>\n",
       "  </thead>\n",
       "  <tbody>\n",
       "    <tr>\n",
       "      <th>0</th>\n",
       "      <td>16.99</td>\n",
       "      <td>1.01</td>\n",
       "      <td>Female</td>\n",
       "      <td>No</td>\n",
       "      <td>Sun</td>\n",
       "      <td>Dinner</td>\n",
       "      <td>2</td>\n",
       "      <td>4.121893</td>\n",
       "      <td>4.121893</td>\n",
       "      <td>2.832625</td>\n",
       "    </tr>\n",
       "    <tr>\n",
       "      <th>1</th>\n",
       "      <td>10.34</td>\n",
       "      <td>1.66</td>\n",
       "      <td>Male</td>\n",
       "      <td>No</td>\n",
       "      <td>Sun</td>\n",
       "      <td>Dinner</td>\n",
       "      <td>3</td>\n",
       "      <td>3.215587</td>\n",
       "      <td>3.215587</td>\n",
       "      <td>2.336020</td>\n",
       "    </tr>\n",
       "    <tr>\n",
       "      <th>2</th>\n",
       "      <td>21.01</td>\n",
       "      <td>3.50</td>\n",
       "      <td>Male</td>\n",
       "      <td>No</td>\n",
       "      <td>Sun</td>\n",
       "      <td>Dinner</td>\n",
       "      <td>3</td>\n",
       "      <td>4.583667</td>\n",
       "      <td>4.583667</td>\n",
       "      <td>3.044999</td>\n",
       "    </tr>\n",
       "    <tr>\n",
       "      <th>3</th>\n",
       "      <td>23.68</td>\n",
       "      <td>3.31</td>\n",
       "      <td>Male</td>\n",
       "      <td>No</td>\n",
       "      <td>Sun</td>\n",
       "      <td>Dinner</td>\n",
       "      <td>2</td>\n",
       "      <td>4.866210</td>\n",
       "      <td>4.866210</td>\n",
       "      <td>3.164631</td>\n",
       "    </tr>\n",
       "    <tr>\n",
       "      <th>4</th>\n",
       "      <td>24.59</td>\n",
       "      <td>3.61</td>\n",
       "      <td>Female</td>\n",
       "      <td>No</td>\n",
       "      <td>Sun</td>\n",
       "      <td>Dinner</td>\n",
       "      <td>4</td>\n",
       "      <td>4.958831</td>\n",
       "      <td>4.958831</td>\n",
       "      <td>3.202340</td>\n",
       "    </tr>\n",
       "  </tbody>\n",
       "</table>\n",
       "</div>"
      ],
      "text/plain": [
       "   total_bill   tip     sex smoker  day    time  size   SQRT_TB   sqrt tb  \\\n",
       "0       16.99  1.01  Female     No  Sun  Dinner     2  4.121893  4.121893   \n",
       "1       10.34  1.66    Male     No  Sun  Dinner     3  3.215587  3.215587   \n",
       "2       21.01  3.50    Male     No  Sun  Dinner     3  4.583667  4.583667   \n",
       "3       23.68  3.31    Male     No  Sun  Dinner     2  4.866210  4.866210   \n",
       "4       24.59  3.61  Female     No  Sun  Dinner     4  4.958831  4.958831   \n",
       "\n",
       "     Log Tb  \n",
       "0  2.832625  \n",
       "1  2.336020  \n",
       "2  3.044999  \n",
       "3  3.164631  \n",
       "4  3.202340  "
      ]
     },
     "execution_count": 32,
     "metadata": {},
     "output_type": "execute_result"
    }
   ],
   "source": [
    "df.head()"
   ]
  },
  {
   "cell_type": "code",
   "execution_count": 33,
   "metadata": {},
   "outputs": [
    {
     "name": "stdout",
     "output_type": "stream",
     "text": [
      "The skewness of the original data is 1.1332130376158205\n",
      "The skewness of the SQRT transformed data is 0.5661281592596766\n",
      "The skewnss of the LOG transformed data is -0.11623079290253824\n",
      "\n",
      "The kurtosis of the original data is 1.2184840156638854\n",
      "The kurtosis of the SQRT transformed data is 0.19520953466627722\n",
      "The kurtosis of the LOG transformed data is 0.4734793671474513\n"
     ]
    }
   ],
   "source": [
    "print(\"The skewness of the original data is {}\".format(df.total_bill.skew()))\n",
    "print('The skewness of the SQRT transformed data is {}'.format(df.SQRT_TB.skew()))\n",
    "print(\"The skewnss of the LOG transformed data is {}\".format(df['Log Tb'].skew()))\n",
    "\n",
    "print('')\n",
    "\n",
    "\n",
    "print(\"The kurtosis of the original data is {}\".format(df.total_bill.kurt()))\n",
    "print(\"The kurtosis of the SQRT transformed data is {}\".format(df.SQRT_TB.kurt()))\n",
    "print(\"The kurtosis of the LOG transformed data is {}\".format(df['Log Tb'].kurt()))"
   ]
  },
  {
   "cell_type": "code",
   "execution_count": 34,
   "metadata": {},
   "outputs": [
    {
     "data": {
      "image/png": "[encoded data removed]",
      "text/plain": [
       "<Figure size 1080x360 with 3 Axes>"
      ]
     },
     "metadata": {
      "needs_background": "light"
     },
     "output_type": "display_data"
    }
   ],
   "source": [
    "# plot the graph:\n",
    "\n",
    "fig, axes = plt.subplots(1,3,figsize=(15,5))\n",
    "\n",
    "sns.distplot(df['total_bill'], ax=axes[0])\n",
    "sns.distplot(df['SQRT_TB'], ax=axes[1])\n",
    "sns.distplot(df['Log Tb'], ax=axes[2])\n",
    "\n",
    "plt.show()"
   ]
  },
  {
   "cell_type": "markdown",
   "metadata": {},
   "source": [
    "### Result:\n",
    "\n",
    "Log Transformation made the total bill left skewed and more peaked.\n",
    "\n",
    "However, Log transformation is more closer to 0 and hence is more normal. Though it heavily maniupulates the data.m"
   ]
  },
  {
   "cell_type": "code",
   "execution_count": 35,
   "metadata": {},
   "outputs": [],
   "source": [
    "## Using Lambda function :\n",
    "\n",
    "df['LOG_TB'] = df['total_bill'].apply(lambda x:np.log(x))"
   ]
  },
  {
   "cell_type": "code",
   "execution_count": 36,
   "metadata": {
    "scrolled": true
   },
   "outputs": [
    {
     "data": {
      "text/html": [
       "<div>\n",
       "<style scoped>\n",
       "    .dataframe tbody tr th:only-of-type {\n",
       "        vertical-align: middle;\n",
       "    }\n",
       "\n",
       "    .dataframe tbody tr th {\n",
       "        vertical-align: top;\n",
       "    }\n",
       "\n",
       "    .dataframe thead th {\n",
       "        text-align: right;\n",
       "    }\n",
       "</style>\n",
       "<table border=\"1\" class=\"dataframe\">\n",
       "  <thead>\n",
       "    <tr style=\"text-align: right;\">\n",
       "      <th></th>\n",
       "      <th>total_bill</th>\n",
       "      <th>tip</th>\n",
       "      <th>sex</th>\n",
       "      <th>smoker</th>\n",
       "      <th>day</th>\n",
       "      <th>time</th>\n",
       "      <th>size</th>\n",
       "      <th>SQRT_TB</th>\n",
       "      <th>sqrt tb</th>\n",
       "      <th>Log Tb</th>\n",
       "      <th>LOG_TB</th>\n",
       "    </tr>\n",
       "  </thead>\n",
       "  <tbody>\n",
       "    <tr>\n",
       "      <th>0</th>\n",
       "      <td>16.99</td>\n",
       "      <td>1.01</td>\n",
       "      <td>Female</td>\n",
       "      <td>No</td>\n",
       "      <td>Sun</td>\n",
       "      <td>Dinner</td>\n",
       "      <td>2</td>\n",
       "      <td>4.121893</td>\n",
       "      <td>4.121893</td>\n",
       "      <td>2.832625</td>\n",
       "      <td>2.832625</td>\n",
       "    </tr>\n",
       "    <tr>\n",
       "      <th>1</th>\n",
       "      <td>10.34</td>\n",
       "      <td>1.66</td>\n",
       "      <td>Male</td>\n",
       "      <td>No</td>\n",
       "      <td>Sun</td>\n",
       "      <td>Dinner</td>\n",
       "      <td>3</td>\n",
       "      <td>3.215587</td>\n",
       "      <td>3.215587</td>\n",
       "      <td>2.336020</td>\n",
       "      <td>2.336020</td>\n",
       "    </tr>\n",
       "    <tr>\n",
       "      <th>2</th>\n",
       "      <td>21.01</td>\n",
       "      <td>3.50</td>\n",
       "      <td>Male</td>\n",
       "      <td>No</td>\n",
       "      <td>Sun</td>\n",
       "      <td>Dinner</td>\n",
       "      <td>3</td>\n",
       "      <td>4.583667</td>\n",
       "      <td>4.583667</td>\n",
       "      <td>3.044999</td>\n",
       "      <td>3.044999</td>\n",
       "    </tr>\n",
       "    <tr>\n",
       "      <th>3</th>\n",
       "      <td>23.68</td>\n",
       "      <td>3.31</td>\n",
       "      <td>Male</td>\n",
       "      <td>No</td>\n",
       "      <td>Sun</td>\n",
       "      <td>Dinner</td>\n",
       "      <td>2</td>\n",
       "      <td>4.866210</td>\n",
       "      <td>4.866210</td>\n",
       "      <td>3.164631</td>\n",
       "      <td>3.164631</td>\n",
       "    </tr>\n",
       "    <tr>\n",
       "      <th>4</th>\n",
       "      <td>24.59</td>\n",
       "      <td>3.61</td>\n",
       "      <td>Female</td>\n",
       "      <td>No</td>\n",
       "      <td>Sun</td>\n",
       "      <td>Dinner</td>\n",
       "      <td>4</td>\n",
       "      <td>4.958831</td>\n",
       "      <td>4.958831</td>\n",
       "      <td>3.202340</td>\n",
       "      <td>3.202340</td>\n",
       "    </tr>\n",
       "  </tbody>\n",
       "</table>\n",
       "</div>"
      ],
      "text/plain": [
       "   total_bill   tip     sex smoker  day    time  size   SQRT_TB   sqrt tb  \\\n",
       "0       16.99  1.01  Female     No  Sun  Dinner     2  4.121893  4.121893   \n",
       "1       10.34  1.66    Male     No  Sun  Dinner     3  3.215587  3.215587   \n",
       "2       21.01  3.50    Male     No  Sun  Dinner     3  4.583667  4.583667   \n",
       "3       23.68  3.31    Male     No  Sun  Dinner     2  4.866210  4.866210   \n",
       "4       24.59  3.61  Female     No  Sun  Dinner     4  4.958831  4.958831   \n",
       "\n",
       "     Log Tb    LOG_TB  \n",
       "0  2.832625  2.832625  \n",
       "1  2.336020  2.336020  \n",
       "2  3.044999  3.044999  \n",
       "3  3.164631  3.164631  \n",
       "4  3.202340  3.202340  "
      ]
     },
     "execution_count": 36,
     "metadata": {},
     "output_type": "execute_result"
    }
   ],
   "source": [
    "df.head()"
   ]
  },
  {
   "cell_type": "markdown",
   "metadata": {},
   "source": [
    "There are other transformations available also called BoxCox. There is an inbuilt function in Sci-kit Learn library called PowerTransformer for this which can also be called to transform the data. We'll see how it works below. Its sklearn domcumentation: https://scikit-learn.org/stable/modules/generated/sklearn.preprocessing.power_transform.html\n"
   ]
  },
  {
   "cell_type": "code",
   "execution_count": 38,
   "metadata": {},
   "outputs": [],
   "source": [
    "from sklearn.preprocessing import PowerTransformer"
   ]
  },
  {
   "cell_type": "raw",
   "metadata": {},
   "source": [
    "Here, \n",
    " \n",
    "from sklearn.preprocessing import PowerTransformer\n",
    " \n",
    "sklearn: is the name of the library\n",
    "preprocessing: is the package or module\n",
    "PowerTransformer: is the function called that is reusable"
   ]
  },
  {
   "cell_type": "code",
   "execution_count": 39,
   "metadata": {},
   "outputs": [],
   "source": [
    "# loading tips data:\n",
    "\n",
    "df1 = sns.load_dataset('tips')"
   ]
  },
  {
   "cell_type": "code",
   "execution_count": 47,
   "metadata": {},
   "outputs": [],
   "source": [
    "# Seprating Numerical and Categorical features:\n",
    "\n",
    "num_x = df1.dtypes[df1.dtypes !='category'].index.to_list()\n",
    "\n",
    "cat_x = df1.dtypes[df1.dtypes =='category'].index.to_list()"
   ]
  },
  {
   "cell_type": "code",
   "execution_count": 48,
   "metadata": {},
   "outputs": [],
   "source": [
    "# Numerical and Categorical datasets:\n",
    "num_df = df1[num_x]\n",
    "cat_df = df1[cat_x]"
   ]
  },
  {
   "cell_type": "code",
   "execution_count": 53,
   "metadata": {},
   "outputs": [],
   "source": [
    "# Step 1: import PowerTransformer\n",
    "\n",
    "# Step 2: creating object of that class:\n",
    "PT = PowerTransformer(method='box-cox')\n",
    "\n",
    "# Step 3: Use the function IterativeImputer to use on the dataset:\n",
    "x_tranform = PT.fit_transform(num_df)\n"
   ]
  },
  {
   "cell_type": "markdown",
   "metadata": {},
   "source": [
    "The x_transform is an array and can be further used to build the model. "
   ]
  },
  {
   "cell_type": "markdown",
   "metadata": {},
   "source": [
    "-----------"
   ]
  },
  {
   "cell_type": "markdown",
   "metadata": {},
   "source": [
    "### Outliers Treatment\n",
    "\n",
    "### 1) Z-Score approach to treat Outliers:\n",
    "\n",
    "All the values above 3 standard deviation and below -3 standard deviation are outliers and can be removed"
   ]
  },
  {
   "cell_type": "code",
   "execution_count": 55,
   "metadata": {},
   "outputs": [
    {
     "data": {
      "text/html": [
       "<div>\n",
       "<style scoped>\n",
       "    .dataframe tbody tr th:only-of-type {\n",
       "        vertical-align: middle;\n",
       "    }\n",
       "\n",
       "    .dataframe tbody tr th {\n",
       "        vertical-align: top;\n",
       "    }\n",
       "\n",
       "    .dataframe thead th {\n",
       "        text-align: right;\n",
       "    }\n",
       "</style>\n",
       "<table border=\"1\" class=\"dataframe\">\n",
       "  <thead>\n",
       "    <tr style=\"text-align: right;\">\n",
       "      <th></th>\n",
       "      <th>total_bill</th>\n",
       "      <th>tip</th>\n",
       "      <th>sex</th>\n",
       "      <th>smoker</th>\n",
       "      <th>day</th>\n",
       "      <th>time</th>\n",
       "      <th>size</th>\n",
       "      <th>SQRT_TB</th>\n",
       "      <th>sqrt tb</th>\n",
       "      <th>Log Tb</th>\n",
       "      <th>LOG_TB</th>\n",
       "    </tr>\n",
       "  </thead>\n",
       "  <tbody>\n",
       "    <tr>\n",
       "      <th>0</th>\n",
       "      <td>16.99</td>\n",
       "      <td>1.01</td>\n",
       "      <td>Female</td>\n",
       "      <td>No</td>\n",
       "      <td>Sun</td>\n",
       "      <td>Dinner</td>\n",
       "      <td>2</td>\n",
       "      <td>4.121893</td>\n",
       "      <td>4.121893</td>\n",
       "      <td>2.832625</td>\n",
       "      <td>2.832625</td>\n",
       "    </tr>\n",
       "    <tr>\n",
       "      <th>1</th>\n",
       "      <td>10.34</td>\n",
       "      <td>1.66</td>\n",
       "      <td>Male</td>\n",
       "      <td>No</td>\n",
       "      <td>Sun</td>\n",
       "      <td>Dinner</td>\n",
       "      <td>3</td>\n",
       "      <td>3.215587</td>\n",
       "      <td>3.215587</td>\n",
       "      <td>2.336020</td>\n",
       "      <td>2.336020</td>\n",
       "    </tr>\n",
       "    <tr>\n",
       "      <th>2</th>\n",
       "      <td>21.01</td>\n",
       "      <td>3.50</td>\n",
       "      <td>Male</td>\n",
       "      <td>No</td>\n",
       "      <td>Sun</td>\n",
       "      <td>Dinner</td>\n",
       "      <td>3</td>\n",
       "      <td>4.583667</td>\n",
       "      <td>4.583667</td>\n",
       "      <td>3.044999</td>\n",
       "      <td>3.044999</td>\n",
       "    </tr>\n",
       "    <tr>\n",
       "      <th>3</th>\n",
       "      <td>23.68</td>\n",
       "      <td>3.31</td>\n",
       "      <td>Male</td>\n",
       "      <td>No</td>\n",
       "      <td>Sun</td>\n",
       "      <td>Dinner</td>\n",
       "      <td>2</td>\n",
       "      <td>4.866210</td>\n",
       "      <td>4.866210</td>\n",
       "      <td>3.164631</td>\n",
       "      <td>3.164631</td>\n",
       "    </tr>\n",
       "    <tr>\n",
       "      <th>4</th>\n",
       "      <td>24.59</td>\n",
       "      <td>3.61</td>\n",
       "      <td>Female</td>\n",
       "      <td>No</td>\n",
       "      <td>Sun</td>\n",
       "      <td>Dinner</td>\n",
       "      <td>4</td>\n",
       "      <td>4.958831</td>\n",
       "      <td>4.958831</td>\n",
       "      <td>3.202340</td>\n",
       "      <td>3.202340</td>\n",
       "    </tr>\n",
       "  </tbody>\n",
       "</table>\n",
       "</div>"
      ],
      "text/plain": [
       "   total_bill   tip     sex smoker  day    time  size   SQRT_TB   sqrt tb  \\\n",
       "0       16.99  1.01  Female     No  Sun  Dinner     2  4.121893  4.121893   \n",
       "1       10.34  1.66    Male     No  Sun  Dinner     3  3.215587  3.215587   \n",
       "2       21.01  3.50    Male     No  Sun  Dinner     3  4.583667  4.583667   \n",
       "3       23.68  3.31    Male     No  Sun  Dinner     2  4.866210  4.866210   \n",
       "4       24.59  3.61  Female     No  Sun  Dinner     4  4.958831  4.958831   \n",
       "\n",
       "     Log Tb    LOG_TB  \n",
       "0  2.832625  2.832625  \n",
       "1  2.336020  2.336020  \n",
       "2  3.044999  3.044999  \n",
       "3  3.164631  3.164631  \n",
       "4  3.202340  3.202340  "
      ]
     },
     "execution_count": 55,
     "metadata": {},
     "output_type": "execute_result"
    }
   ],
   "source": [
    "df.head()"
   ]
  },
  {
   "cell_type": "code",
   "execution_count": 56,
   "metadata": {},
   "outputs": [],
   "source": [
    "# 'SciPy' is used to perform scientific computations\n",
    "import scipy.stats as stats"
   ]
  },
  {
   "cell_type": "markdown",
   "metadata": {},
   "source": [
    "#### Using SciPy Library to calculate the Z-Score:"
   ]
  },
  {
   "cell_type": "code",
   "execution_count": 57,
   "metadata": {},
   "outputs": [],
   "source": [
    "# Creating new variable with Z-score of each record:\n",
    "df['ZTB'] = stats.zscore(df['total_bill'])"
   ]
  },
  {
   "cell_type": "markdown",
   "metadata": {},
   "source": [
    "#### Manually computing the Z-score:"
   ]
  },
  {
   "cell_type": "code",
   "execution_count": 68,
   "metadata": {},
   "outputs": [
    {
     "data": {
      "text/plain": [
       "19.785942622950824"
      ]
     },
     "execution_count": 68,
     "metadata": {},
     "output_type": "execute_result"
    }
   ],
   "source": [
    "avg_total_bill = df['total_bill'].mean()\n",
    "avg_total_bill"
   ]
  },
  {
   "cell_type": "code",
   "execution_count": 69,
   "metadata": {},
   "outputs": [
    {
     "data": {
      "text/plain": [
       "8.902411954856856"
      ]
     },
     "execution_count": 69,
     "metadata": {},
     "output_type": "execute_result"
    }
   ],
   "source": [
    "std_total_bill = df['total_bill'].std()\n",
    "std_total_bill"
   ]
  },
  {
   "cell_type": "code",
   "execution_count": 71,
   "metadata": {},
   "outputs": [],
   "source": [
    "# Step 1 : transform using Z-score\n",
    "df['Z_Score_Total_Bill'] = (df['total_bill'] - avg_total_bill )/std_total_bill"
   ]
  },
  {
   "cell_type": "code",
   "execution_count": 72,
   "metadata": {},
   "outputs": [
    {
     "data": {
      "text/html": [
       "<div>\n",
       "<style scoped>\n",
       "    .dataframe tbody tr th:only-of-type {\n",
       "        vertical-align: middle;\n",
       "    }\n",
       "\n",
       "    .dataframe tbody tr th {\n",
       "        vertical-align: top;\n",
       "    }\n",
       "\n",
       "    .dataframe thead th {\n",
       "        text-align: right;\n",
       "    }\n",
       "</style>\n",
       "<table border=\"1\" class=\"dataframe\">\n",
       "  <thead>\n",
       "    <tr style=\"text-align: right;\">\n",
       "      <th></th>\n",
       "      <th>total_bill</th>\n",
       "      <th>tip</th>\n",
       "      <th>sex</th>\n",
       "      <th>smoker</th>\n",
       "      <th>day</th>\n",
       "      <th>time</th>\n",
       "      <th>size</th>\n",
       "      <th>SQRT_TB</th>\n",
       "      <th>sqrt tb</th>\n",
       "      <th>Log Tb</th>\n",
       "      <th>LOG_TB</th>\n",
       "      <th>ZTB</th>\n",
       "      <th>Z_Score_Total_Bill</th>\n",
       "    </tr>\n",
       "  </thead>\n",
       "  <tbody>\n",
       "  </tbody>\n",
       "</table>\n",
       "</div>"
      ],
      "text/plain": [
       "Empty DataFrame\n",
       "Columns: [total_bill, tip, sex, smoker, day, time, size, SQRT_TB, sqrt tb, Log Tb, LOG_TB, ZTB, Z_Score_Total_Bill]\n",
       "Index: []"
      ]
     },
     "execution_count": 72,
     "metadata": {},
     "output_type": "execute_result"
    }
   ],
   "source": [
    "# count of -3 to +3 ZTB score: lower limit\n",
    "\n",
    "df[df['ZTB'] < - 3]"
   ]
  },
  {
   "cell_type": "code",
   "execution_count": 73,
   "metadata": {},
   "outputs": [
    {
     "data": {
      "text/html": [
       "<div>\n",
       "<style scoped>\n",
       "    .dataframe tbody tr th:only-of-type {\n",
       "        vertical-align: middle;\n",
       "    }\n",
       "\n",
       "    .dataframe tbody tr th {\n",
       "        vertical-align: top;\n",
       "    }\n",
       "\n",
       "    .dataframe thead th {\n",
       "        text-align: right;\n",
       "    }\n",
       "</style>\n",
       "<table border=\"1\" class=\"dataframe\">\n",
       "  <thead>\n",
       "    <tr style=\"text-align: right;\">\n",
       "      <th></th>\n",
       "      <th>total_bill</th>\n",
       "      <th>tip</th>\n",
       "      <th>sex</th>\n",
       "      <th>smoker</th>\n",
       "      <th>day</th>\n",
       "      <th>time</th>\n",
       "      <th>size</th>\n",
       "      <th>SQRT_TB</th>\n",
       "      <th>sqrt tb</th>\n",
       "      <th>Log Tb</th>\n",
       "      <th>LOG_TB</th>\n",
       "      <th>ZTB</th>\n",
       "      <th>Z_Score_Total_Bill</th>\n",
       "    </tr>\n",
       "  </thead>\n",
       "  <tbody>\n",
       "    <tr>\n",
       "      <th>59</th>\n",
       "      <td>48.27</td>\n",
       "      <td>6.73</td>\n",
       "      <td>Male</td>\n",
       "      <td>No</td>\n",
       "      <td>Sat</td>\n",
       "      <td>Dinner</td>\n",
       "      <td>4</td>\n",
       "      <td>6.947661</td>\n",
       "      <td>6.947661</td>\n",
       "      <td>3.876810</td>\n",
       "      <td>3.876810</td>\n",
       "      <td>3.206166</td>\n",
       "      <td>3.199589</td>\n",
       "    </tr>\n",
       "    <tr>\n",
       "      <th>156</th>\n",
       "      <td>48.17</td>\n",
       "      <td>5.00</td>\n",
       "      <td>Male</td>\n",
       "      <td>No</td>\n",
       "      <td>Sun</td>\n",
       "      <td>Dinner</td>\n",
       "      <td>6</td>\n",
       "      <td>6.940461</td>\n",
       "      <td>6.940461</td>\n",
       "      <td>3.874736</td>\n",
       "      <td>3.874736</td>\n",
       "      <td>3.194910</td>\n",
       "      <td>3.188356</td>\n",
       "    </tr>\n",
       "    <tr>\n",
       "      <th>170</th>\n",
       "      <td>50.81</td>\n",
       "      <td>10.00</td>\n",
       "      <td>Male</td>\n",
       "      <td>Yes</td>\n",
       "      <td>Sat</td>\n",
       "      <td>Dinner</td>\n",
       "      <td>3</td>\n",
       "      <td>7.128113</td>\n",
       "      <td>7.128113</td>\n",
       "      <td>3.928093</td>\n",
       "      <td>3.928093</td>\n",
       "      <td>3.492068</td>\n",
       "      <td>3.484905</td>\n",
       "    </tr>\n",
       "    <tr>\n",
       "      <th>212</th>\n",
       "      <td>48.33</td>\n",
       "      <td>9.00</td>\n",
       "      <td>Male</td>\n",
       "      <td>No</td>\n",
       "      <td>Sat</td>\n",
       "      <td>Dinner</td>\n",
       "      <td>4</td>\n",
       "      <td>6.951978</td>\n",
       "      <td>6.951978</td>\n",
       "      <td>3.878052</td>\n",
       "      <td>3.878052</td>\n",
       "      <td>3.212919</td>\n",
       "      <td>3.206329</td>\n",
       "    </tr>\n",
       "  </tbody>\n",
       "</table>\n",
       "</div>"
      ],
      "text/plain": [
       "     total_bill    tip   sex smoker  day    time  size   SQRT_TB   sqrt tb  \\\n",
       "59        48.27   6.73  Male     No  Sat  Dinner     4  6.947661  6.947661   \n",
       "156       48.17   5.00  Male     No  Sun  Dinner     6  6.940461  6.940461   \n",
       "170       50.81  10.00  Male    Yes  Sat  Dinner     3  7.128113  7.128113   \n",
       "212       48.33   9.00  Male     No  Sat  Dinner     4  6.951978  6.951978   \n",
       "\n",
       "       Log Tb    LOG_TB       ZTB  Z_Score_Total_Bill  \n",
       "59   3.876810  3.876810  3.206166            3.199589  \n",
       "156  3.874736  3.874736  3.194910            3.188356  \n",
       "170  3.928093  3.928093  3.492068            3.484905  \n",
       "212  3.878052  3.878052  3.212919            3.206329  "
      ]
     },
     "execution_count": 73,
     "metadata": {},
     "output_type": "execute_result"
    }
   ],
   "source": [
    "# lower limit:\n",
    "df[df['ZTB'] > 3 ]"
   ]
  },
  {
   "cell_type": "code",
   "execution_count": 74,
   "metadata": {},
   "outputs": [
    {
     "data": {
      "text/html": [
       "<div>\n",
       "<style scoped>\n",
       "    .dataframe tbody tr th:only-of-type {\n",
       "        vertical-align: middle;\n",
       "    }\n",
       "\n",
       "    .dataframe tbody tr th {\n",
       "        vertical-align: top;\n",
       "    }\n",
       "\n",
       "    .dataframe thead th {\n",
       "        text-align: right;\n",
       "    }\n",
       "</style>\n",
       "<table border=\"1\" class=\"dataframe\">\n",
       "  <thead>\n",
       "    <tr style=\"text-align: right;\">\n",
       "      <th></th>\n",
       "      <th>total_bill</th>\n",
       "      <th>tip</th>\n",
       "      <th>sex</th>\n",
       "      <th>smoker</th>\n",
       "      <th>day</th>\n",
       "      <th>time</th>\n",
       "      <th>size</th>\n",
       "      <th>SQRT_TB</th>\n",
       "      <th>sqrt tb</th>\n",
       "      <th>Log Tb</th>\n",
       "      <th>LOG_TB</th>\n",
       "      <th>ZTB</th>\n",
       "      <th>Z_Score_Total_Bill</th>\n",
       "    </tr>\n",
       "  </thead>\n",
       "  <tbody>\n",
       "    <tr>\n",
       "      <th>59</th>\n",
       "      <td>48.27</td>\n",
       "      <td>6.73</td>\n",
       "      <td>Male</td>\n",
       "      <td>No</td>\n",
       "      <td>Sat</td>\n",
       "      <td>Dinner</td>\n",
       "      <td>4</td>\n",
       "      <td>6.947661</td>\n",
       "      <td>6.947661</td>\n",
       "      <td>3.876810</td>\n",
       "      <td>3.876810</td>\n",
       "      <td>3.206166</td>\n",
       "      <td>3.199589</td>\n",
       "    </tr>\n",
       "    <tr>\n",
       "      <th>156</th>\n",
       "      <td>48.17</td>\n",
       "      <td>5.00</td>\n",
       "      <td>Male</td>\n",
       "      <td>No</td>\n",
       "      <td>Sun</td>\n",
       "      <td>Dinner</td>\n",
       "      <td>6</td>\n",
       "      <td>6.940461</td>\n",
       "      <td>6.940461</td>\n",
       "      <td>3.874736</td>\n",
       "      <td>3.874736</td>\n",
       "      <td>3.194910</td>\n",
       "      <td>3.188356</td>\n",
       "    </tr>\n",
       "    <tr>\n",
       "      <th>170</th>\n",
       "      <td>50.81</td>\n",
       "      <td>10.00</td>\n",
       "      <td>Male</td>\n",
       "      <td>Yes</td>\n",
       "      <td>Sat</td>\n",
       "      <td>Dinner</td>\n",
       "      <td>3</td>\n",
       "      <td>7.128113</td>\n",
       "      <td>7.128113</td>\n",
       "      <td>3.928093</td>\n",
       "      <td>3.928093</td>\n",
       "      <td>3.492068</td>\n",
       "      <td>3.484905</td>\n",
       "    </tr>\n",
       "    <tr>\n",
       "      <th>212</th>\n",
       "      <td>48.33</td>\n",
       "      <td>9.00</td>\n",
       "      <td>Male</td>\n",
       "      <td>No</td>\n",
       "      <td>Sat</td>\n",
       "      <td>Dinner</td>\n",
       "      <td>4</td>\n",
       "      <td>6.951978</td>\n",
       "      <td>6.951978</td>\n",
       "      <td>3.878052</td>\n",
       "      <td>3.878052</td>\n",
       "      <td>3.212919</td>\n",
       "      <td>3.206329</td>\n",
       "    </tr>\n",
       "  </tbody>\n",
       "</table>\n",
       "</div>"
      ],
      "text/plain": [
       "     total_bill    tip   sex smoker  day    time  size   SQRT_TB   sqrt tb  \\\n",
       "59        48.27   6.73  Male     No  Sat  Dinner     4  6.947661  6.947661   \n",
       "156       48.17   5.00  Male     No  Sun  Dinner     6  6.940461  6.940461   \n",
       "170       50.81  10.00  Male    Yes  Sat  Dinner     3  7.128113  7.128113   \n",
       "212       48.33   9.00  Male     No  Sat  Dinner     4  6.951978  6.951978   \n",
       "\n",
       "       Log Tb    LOG_TB       ZTB  Z_Score_Total_Bill  \n",
       "59   3.876810  3.876810  3.206166            3.199589  \n",
       "156  3.874736  3.874736  3.194910            3.188356  \n",
       "170  3.928093  3.928093  3.492068            3.484905  \n",
       "212  3.878052  3.878052  3.212919            3.206329  "
      ]
     },
     "execution_count": 74,
     "metadata": {},
     "output_type": "execute_result"
    }
   ],
   "source": [
    "# Combined Lower limit and Upper limit:\n",
    "\n",
    "df[(df['ZTB']<-3) | (df['ZTB']>3)]"
   ]
  },
  {
   "cell_type": "code",
   "execution_count": 75,
   "metadata": {},
   "outputs": [
    {
     "data": {
      "text/plain": [
       "4"
      ]
     },
     "execution_count": 75,
     "metadata": {},
     "output_type": "execute_result"
    }
   ],
   "source": [
    "# count of outliers:\n",
    "\n",
    "df[(df['ZTB']<-3) | (df['ZTB']>3)].shape[0]"
   ]
  },
  {
   "cell_type": "code",
   "execution_count": 76,
   "metadata": {},
   "outputs": [
    {
     "data": {
      "text/html": [
       "<div>\n",
       "<style scoped>\n",
       "    .dataframe tbody tr th:only-of-type {\n",
       "        vertical-align: middle;\n",
       "    }\n",
       "\n",
       "    .dataframe tbody tr th {\n",
       "        vertical-align: top;\n",
       "    }\n",
       "\n",
       "    .dataframe thead th {\n",
       "        text-align: right;\n",
       "    }\n",
       "</style>\n",
       "<table border=\"1\" class=\"dataframe\">\n",
       "  <thead>\n",
       "    <tr style=\"text-align: right;\">\n",
       "      <th></th>\n",
       "      <th>index</th>\n",
       "      <th>total_bill</th>\n",
       "      <th>tip</th>\n",
       "      <th>sex</th>\n",
       "      <th>smoker</th>\n",
       "      <th>day</th>\n",
       "      <th>time</th>\n",
       "      <th>size</th>\n",
       "      <th>SQRT_TB</th>\n",
       "      <th>sqrt tb</th>\n",
       "      <th>Log Tb</th>\n",
       "      <th>LOG_TB</th>\n",
       "      <th>ZTB</th>\n",
       "      <th>Z_Score_Total_Bill</th>\n",
       "    </tr>\n",
       "  </thead>\n",
       "  <tbody>\n",
       "    <tr>\n",
       "      <th>0</th>\n",
       "      <td>0</td>\n",
       "      <td>16.99</td>\n",
       "      <td>1.01</td>\n",
       "      <td>Female</td>\n",
       "      <td>No</td>\n",
       "      <td>Sun</td>\n",
       "      <td>Dinner</td>\n",
       "      <td>2</td>\n",
       "      <td>4.121893</td>\n",
       "      <td>4.121893</td>\n",
       "      <td>2.832625</td>\n",
       "      <td>2.832625</td>\n",
       "      <td>-0.314711</td>\n",
       "      <td>-0.314066</td>\n",
       "    </tr>\n",
       "    <tr>\n",
       "      <th>1</th>\n",
       "      <td>1</td>\n",
       "      <td>10.34</td>\n",
       "      <td>1.66</td>\n",
       "      <td>Male</td>\n",
       "      <td>No</td>\n",
       "      <td>Sun</td>\n",
       "      <td>Dinner</td>\n",
       "      <td>3</td>\n",
       "      <td>3.215587</td>\n",
       "      <td>3.215587</td>\n",
       "      <td>2.336020</td>\n",
       "      <td>2.336020</td>\n",
       "      <td>-1.063235</td>\n",
       "      <td>-1.061054</td>\n",
       "    </tr>\n",
       "    <tr>\n",
       "      <th>2</th>\n",
       "      <td>2</td>\n",
       "      <td>21.01</td>\n",
       "      <td>3.50</td>\n",
       "      <td>Male</td>\n",
       "      <td>No</td>\n",
       "      <td>Sun</td>\n",
       "      <td>Dinner</td>\n",
       "      <td>3</td>\n",
       "      <td>4.583667</td>\n",
       "      <td>4.583667</td>\n",
       "      <td>3.044999</td>\n",
       "      <td>3.044999</td>\n",
       "      <td>0.137780</td>\n",
       "      <td>0.137497</td>\n",
       "    </tr>\n",
       "    <tr>\n",
       "      <th>3</th>\n",
       "      <td>3</td>\n",
       "      <td>23.68</td>\n",
       "      <td>3.31</td>\n",
       "      <td>Male</td>\n",
       "      <td>No</td>\n",
       "      <td>Sun</td>\n",
       "      <td>Dinner</td>\n",
       "      <td>2</td>\n",
       "      <td>4.866210</td>\n",
       "      <td>4.866210</td>\n",
       "      <td>3.164631</td>\n",
       "      <td>3.164631</td>\n",
       "      <td>0.438315</td>\n",
       "      <td>0.437416</td>\n",
       "    </tr>\n",
       "    <tr>\n",
       "      <th>4</th>\n",
       "      <td>4</td>\n",
       "      <td>24.59</td>\n",
       "      <td>3.61</td>\n",
       "      <td>Female</td>\n",
       "      <td>No</td>\n",
       "      <td>Sun</td>\n",
       "      <td>Dinner</td>\n",
       "      <td>4</td>\n",
       "      <td>4.958831</td>\n",
       "      <td>4.958831</td>\n",
       "      <td>3.202340</td>\n",
       "      <td>3.202340</td>\n",
       "      <td>0.540745</td>\n",
       "      <td>0.539635</td>\n",
       "    </tr>\n",
       "  </tbody>\n",
       "</table>\n",
       "</div>"
      ],
      "text/plain": [
       "   index  total_bill   tip     sex smoker  day    time  size   SQRT_TB  \\\n",
       "0      0       16.99  1.01  Female     No  Sun  Dinner     2  4.121893   \n",
       "1      1       10.34  1.66    Male     No  Sun  Dinner     3  3.215587   \n",
       "2      2       21.01  3.50    Male     No  Sun  Dinner     3  4.583667   \n",
       "3      3       23.68  3.31    Male     No  Sun  Dinner     2  4.866210   \n",
       "4      4       24.59  3.61  Female     No  Sun  Dinner     4  4.958831   \n",
       "\n",
       "    sqrt tb    Log Tb    LOG_TB       ZTB  Z_Score_Total_Bill  \n",
       "0  4.121893  2.832625  2.832625 -0.314711           -0.314066  \n",
       "1  3.215587  2.336020  2.336020 -1.063235           -1.061054  \n",
       "2  4.583667  3.044999  3.044999  0.137780            0.137497  \n",
       "3  4.866210  3.164631  3.164631  0.438315            0.437416  \n",
       "4  4.958831  3.202340  3.202340  0.540745            0.539635  "
      ]
     },
     "execution_count": 76,
     "metadata": {},
     "output_type": "execute_result"
    }
   ],
   "source": [
    "### Cleaned Data: without outliers so z>-3 and z< +3\n",
    "\n",
    "df2= df[(df['ZTB']>-3) & (df['ZTB']<3)].reset_index()\n",
    "df2.head()"
   ]
  },
  {
   "cell_type": "code",
   "execution_count": 77,
   "metadata": {},
   "outputs": [
    {
     "data": {
      "text/plain": [
       "(244, 13)"
      ]
     },
     "execution_count": 77,
     "metadata": {},
     "output_type": "execute_result"
    }
   ],
   "source": [
    "df.shape"
   ]
  },
  {
   "cell_type": "code",
   "execution_count": 78,
   "metadata": {},
   "outputs": [
    {
     "data": {
      "text/plain": [
       "(240, 14)"
      ]
     },
     "execution_count": 78,
     "metadata": {},
     "output_type": "execute_result"
    }
   ],
   "source": [
    "df2.shape"
   ]
  },
  {
   "cell_type": "code",
   "execution_count": 79,
   "metadata": {},
   "outputs": [
    {
     "name": "stdout",
     "output_type": "stream",
     "text": [
      "The skewness of Original Data is 1.1332130376158205 \n",
      "The skewness of Z-Score Cleaned Data is 0.9148510261489988 \n",
      "\n",
      "The kurtosis of Original Data is 1.2184840156638854 \n",
      "The kurtosis of Z-Score Cleaned Data is 0.5355590055930715 \n"
     ]
    }
   ],
   "source": [
    "print(\"The skewness of Original Data is {} \".format(df.total_bill.skew()))\n",
    "print('The skewness of Z-Score Cleaned Data is {} '.format(df2.total_bill.skew()))\n",
    "\n",
    "print('')\n",
    "\n",
    "print('The kurtosis of Original Data is {} '.format(df.total_bill.kurt()))\n",
    "print('The kurtosis of Z-Score Cleaned Data is {} '.format(df2.total_bill.kurt()))"
   ]
  },
  {
   "cell_type": "markdown",
   "metadata": {},
   "source": [
    "### Inference:\n",
    "\n",
    "The skewness and Kurtosis both have reduced and are close to zero. The Total Bill has moved more towards zero."
   ]
  },
  {
   "cell_type": "code",
   "execution_count": 80,
   "metadata": {},
   "outputs": [
    {
     "data": {
      "image/png": "[encoded data removed]",
      "text/plain": [
       "<Figure size 720x360 with 4 Axes>"
      ]
     },
     "metadata": {
      "needs_background": "light"
     },
     "output_type": "display_data"
    }
   ],
   "source": [
    "### Plotting of the graph:\n",
    "\n",
    "fig, axes = plt.subplots(2,2,figsize=(10,5))\n",
    "\n",
    "sns.distplot(df['total_bill'], ax=axes[0,0])\n",
    "sns.distplot(df['ZTB'], ax = axes[0,1])\n",
    "sns.distplot(df2['total_bill'], ax= axes[1,0])\n",
    "sns.distplot(df2['ZTB'], ax=axes[1,1])\n",
    "\n",
    "plt.tight_layout()\n",
    "plt.show()"
   ]
  },
  {
   "cell_type": "markdown",
   "metadata": {},
   "source": [
    "## Inference:\n",
    "\n",
    "The slope has decreased after removing the outliers. Earlier it was longer slope and now it is shorter. The bump of the outlier has removed.\n",
    "\n",
    "Both the Skewness and Kurtosis has decreased and  has become more less skewed and bump has gone."
   ]
  },
  {
   "cell_type": "code",
   "execution_count": 81,
   "metadata": {},
   "outputs": [
    {
     "data": {
      "text/html": [
       "<div>\n",
       "<style scoped>\n",
       "    .dataframe tbody tr th:only-of-type {\n",
       "        vertical-align: middle;\n",
       "    }\n",
       "\n",
       "    .dataframe tbody tr th {\n",
       "        vertical-align: top;\n",
       "    }\n",
       "\n",
       "    .dataframe thead th {\n",
       "        text-align: right;\n",
       "    }\n",
       "</style>\n",
       "<table border=\"1\" class=\"dataframe\">\n",
       "  <thead>\n",
       "    <tr style=\"text-align: right;\">\n",
       "      <th></th>\n",
       "      <th>total_bill</th>\n",
       "      <th>tip</th>\n",
       "      <th>sex</th>\n",
       "      <th>smoker</th>\n",
       "      <th>day</th>\n",
       "      <th>time</th>\n",
       "      <th>size</th>\n",
       "    </tr>\n",
       "  </thead>\n",
       "  <tbody>\n",
       "    <tr>\n",
       "      <th>0</th>\n",
       "      <td>16.99</td>\n",
       "      <td>1.01</td>\n",
       "      <td>Female</td>\n",
       "      <td>No</td>\n",
       "      <td>Sun</td>\n",
       "      <td>Dinner</td>\n",
       "      <td>2</td>\n",
       "    </tr>\n",
       "    <tr>\n",
       "      <th>1</th>\n",
       "      <td>10.34</td>\n",
       "      <td>1.66</td>\n",
       "      <td>Male</td>\n",
       "      <td>No</td>\n",
       "      <td>Sun</td>\n",
       "      <td>Dinner</td>\n",
       "      <td>3</td>\n",
       "    </tr>\n",
       "    <tr>\n",
       "      <th>2</th>\n",
       "      <td>21.01</td>\n",
       "      <td>3.50</td>\n",
       "      <td>Male</td>\n",
       "      <td>No</td>\n",
       "      <td>Sun</td>\n",
       "      <td>Dinner</td>\n",
       "      <td>3</td>\n",
       "    </tr>\n",
       "    <tr>\n",
       "      <th>3</th>\n",
       "      <td>23.68</td>\n",
       "      <td>3.31</td>\n",
       "      <td>Male</td>\n",
       "      <td>No</td>\n",
       "      <td>Sun</td>\n",
       "      <td>Dinner</td>\n",
       "      <td>2</td>\n",
       "    </tr>\n",
       "    <tr>\n",
       "      <th>4</th>\n",
       "      <td>24.59</td>\n",
       "      <td>3.61</td>\n",
       "      <td>Female</td>\n",
       "      <td>No</td>\n",
       "      <td>Sun</td>\n",
       "      <td>Dinner</td>\n",
       "      <td>4</td>\n",
       "    </tr>\n",
       "  </tbody>\n",
       "</table>\n",
       "</div>"
      ],
      "text/plain": [
       "   total_bill   tip     sex smoker  day    time  size\n",
       "0       16.99  1.01  Female     No  Sun  Dinner     2\n",
       "1       10.34  1.66    Male     No  Sun  Dinner     3\n",
       "2       21.01  3.50    Male     No  Sun  Dinner     3\n",
       "3       23.68  3.31    Male     No  Sun  Dinner     2\n",
       "4       24.59  3.61  Female     No  Sun  Dinner     4"
      ]
     },
     "execution_count": 81,
     "metadata": {},
     "output_type": "execute_result"
    }
   ],
   "source": [
    "df1.head()"
   ]
  },
  {
   "cell_type": "code",
   "execution_count": 82,
   "metadata": {},
   "outputs": [
    {
     "data": {
      "text/plain": [
       "count    244.000000\n",
       "mean      19.785943\n",
       "std        8.902412\n",
       "min        3.070000\n",
       "25%       13.347500\n",
       "50%       17.795000\n",
       "75%       24.127500\n",
       "max       50.810000\n",
       "Name: total_bill, dtype: float64"
      ]
     },
     "execution_count": 82,
     "metadata": {},
     "output_type": "execute_result"
    }
   ],
   "source": [
    "df1.total_bill.describe()"
   ]
  },
  {
   "cell_type": "markdown",
   "metadata": {},
   "source": [
    "-----------"
   ]
  },
  {
   "cell_type": "markdown",
   "metadata": {},
   "source": [
    "### 2) IQR Method to treat Outliers:\n",
    "\n",
    "All the values below Q1 - 1.5*IQR and values above Q3 + 1.5*IQR are outliers and can be removed."
   ]
  },
  {
   "cell_type": "code",
   "execution_count": 85,
   "metadata": {},
   "outputs": [
    {
     "data": {
      "text/plain": [
       "-2.8224999999999945"
      ]
     },
     "metadata": {},
     "output_type": "display_data"
    },
    {
     "data": {
      "text/plain": [
       "40.29749999999999"
      ]
     },
     "metadata": {},
     "output_type": "display_data"
    }
   ],
   "source": [
    "# finding the Quantiles:\n",
    "\n",
    "Q1 = df1.total_bill.quantile(0.25)\n",
    "Q2 = df1.total_bill.quantile(0.50)\n",
    "Q3 = df1.total_bill.quantile(0.75)\n",
    "\n",
    "# IQR : Inter-Quartile Range\n",
    "\n",
    "IQR = Q3 - Q1\n",
    "\n",
    "# Lower Limit:\n",
    "LC = Q1 - (1.5*IQR)\n",
    "\n",
    "# Upper Limit:\n",
    "UC = Q3 + (1.5*IQR)\n",
    "\n",
    "display(LC)\n",
    "display(UC)"
   ]
  },
  {
   "cell_type": "code",
   "execution_count": 86,
   "metadata": {},
   "outputs": [
    {
     "data": {
      "image/png": "[encoded data removed]",
      "text/plain": [
       "<Figure size 432x288 with 1 Axes>"
      ]
     },
     "metadata": {
      "needs_background": "light"
     },
     "output_type": "display_data"
    }
   ],
   "source": [
    "## Plot\n",
    "\n",
    "sns.distplot(df1.total_bill)\n",
    "plt.axvline(UC, color='r')\n",
    "plt.axvline(LC, color ='r')\n",
    "plt.axvline(Q1, color='g')\n",
    "plt.axvline(Q3, color='g')\n",
    "plt.show()"
   ]
  },
  {
   "cell_type": "code",
   "execution_count": 87,
   "metadata": {},
   "outputs": [
    {
     "data": {
      "text/html": [
       "<div>\n",
       "<style scoped>\n",
       "    .dataframe tbody tr th:only-of-type {\n",
       "        vertical-align: middle;\n",
       "    }\n",
       "\n",
       "    .dataframe tbody tr th {\n",
       "        vertical-align: top;\n",
       "    }\n",
       "\n",
       "    .dataframe thead th {\n",
       "        text-align: right;\n",
       "    }\n",
       "</style>\n",
       "<table border=\"1\" class=\"dataframe\">\n",
       "  <thead>\n",
       "    <tr style=\"text-align: right;\">\n",
       "      <th></th>\n",
       "      <th>total_bill</th>\n",
       "      <th>tip</th>\n",
       "      <th>sex</th>\n",
       "      <th>smoker</th>\n",
       "      <th>day</th>\n",
       "      <th>time</th>\n",
       "      <th>size</th>\n",
       "    </tr>\n",
       "  </thead>\n",
       "  <tbody>\n",
       "    <tr>\n",
       "      <th>0</th>\n",
       "      <td>48.27</td>\n",
       "      <td>6.73</td>\n",
       "      <td>Male</td>\n",
       "      <td>No</td>\n",
       "      <td>Sat</td>\n",
       "      <td>Dinner</td>\n",
       "      <td>4</td>\n",
       "    </tr>\n",
       "    <tr>\n",
       "      <th>1</th>\n",
       "      <td>44.30</td>\n",
       "      <td>2.50</td>\n",
       "      <td>Female</td>\n",
       "      <td>Yes</td>\n",
       "      <td>Sat</td>\n",
       "      <td>Dinner</td>\n",
       "      <td>3</td>\n",
       "    </tr>\n",
       "    <tr>\n",
       "      <th>2</th>\n",
       "      <td>41.19</td>\n",
       "      <td>5.00</td>\n",
       "      <td>Male</td>\n",
       "      <td>No</td>\n",
       "      <td>Thur</td>\n",
       "      <td>Lunch</td>\n",
       "      <td>5</td>\n",
       "    </tr>\n",
       "    <tr>\n",
       "      <th>3</th>\n",
       "      <td>48.17</td>\n",
       "      <td>5.00</td>\n",
       "      <td>Male</td>\n",
       "      <td>No</td>\n",
       "      <td>Sun</td>\n",
       "      <td>Dinner</td>\n",
       "      <td>6</td>\n",
       "    </tr>\n",
       "    <tr>\n",
       "      <th>4</th>\n",
       "      <td>50.81</td>\n",
       "      <td>10.00</td>\n",
       "      <td>Male</td>\n",
       "      <td>Yes</td>\n",
       "      <td>Sat</td>\n",
       "      <td>Dinner</td>\n",
       "      <td>3</td>\n",
       "    </tr>\n",
       "    <tr>\n",
       "      <th>5</th>\n",
       "      <td>45.35</td>\n",
       "      <td>3.50</td>\n",
       "      <td>Male</td>\n",
       "      <td>Yes</td>\n",
       "      <td>Sun</td>\n",
       "      <td>Dinner</td>\n",
       "      <td>3</td>\n",
       "    </tr>\n",
       "    <tr>\n",
       "      <th>6</th>\n",
       "      <td>40.55</td>\n",
       "      <td>3.00</td>\n",
       "      <td>Male</td>\n",
       "      <td>Yes</td>\n",
       "      <td>Sun</td>\n",
       "      <td>Dinner</td>\n",
       "      <td>2</td>\n",
       "    </tr>\n",
       "    <tr>\n",
       "      <th>7</th>\n",
       "      <td>43.11</td>\n",
       "      <td>5.00</td>\n",
       "      <td>Female</td>\n",
       "      <td>Yes</td>\n",
       "      <td>Thur</td>\n",
       "      <td>Lunch</td>\n",
       "      <td>4</td>\n",
       "    </tr>\n",
       "    <tr>\n",
       "      <th>8</th>\n",
       "      <td>48.33</td>\n",
       "      <td>9.00</td>\n",
       "      <td>Male</td>\n",
       "      <td>No</td>\n",
       "      <td>Sat</td>\n",
       "      <td>Dinner</td>\n",
       "      <td>4</td>\n",
       "    </tr>\n",
       "  </tbody>\n",
       "</table>\n",
       "</div>"
      ],
      "text/plain": [
       "   total_bill    tip     sex smoker   day    time  size\n",
       "0       48.27   6.73    Male     No   Sat  Dinner     4\n",
       "1       44.30   2.50  Female    Yes   Sat  Dinner     3\n",
       "2       41.19   5.00    Male     No  Thur   Lunch     5\n",
       "3       48.17   5.00    Male     No   Sun  Dinner     6\n",
       "4       50.81  10.00    Male    Yes   Sat  Dinner     3\n",
       "5       45.35   3.50    Male    Yes   Sun  Dinner     3\n",
       "6       40.55   3.00    Male    Yes   Sun  Dinner     2\n",
       "7       43.11   5.00  Female    Yes  Thur   Lunch     4\n",
       "8       48.33   9.00    Male     No   Sat  Dinner     4"
      ]
     },
     "execution_count": 87,
     "metadata": {},
     "output_type": "execute_result"
    }
   ],
   "source": [
    "# Find count of Outliers wrt IQR\n",
    "\n",
    "df1[(df1.total_bill<LC) | (df1.total_bill>UC)].reset_index(drop=True)"
   ]
  },
  {
   "cell_type": "code",
   "execution_count": 88,
   "metadata": {},
   "outputs": [
    {
     "data": {
      "text/plain": [
       "9"
      ]
     },
     "execution_count": 88,
     "metadata": {},
     "output_type": "execute_result"
    }
   ],
   "source": [
    "df1[(df1.total_bill<LC) | (df1.total_bill>UC)].shape[0]"
   ]
  },
  {
   "cell_type": "code",
   "execution_count": 89,
   "metadata": {},
   "outputs": [
    {
     "data": {
      "text/html": [
       "<div>\n",
       "<style scoped>\n",
       "    .dataframe tbody tr th:only-of-type {\n",
       "        vertical-align: middle;\n",
       "    }\n",
       "\n",
       "    .dataframe tbody tr th {\n",
       "        vertical-align: top;\n",
       "    }\n",
       "\n",
       "    .dataframe thead th {\n",
       "        text-align: right;\n",
       "    }\n",
       "</style>\n",
       "<table border=\"1\" class=\"dataframe\">\n",
       "  <thead>\n",
       "    <tr style=\"text-align: right;\">\n",
       "      <th></th>\n",
       "      <th>total_bill</th>\n",
       "      <th>tip</th>\n",
       "      <th>sex</th>\n",
       "      <th>smoker</th>\n",
       "      <th>day</th>\n",
       "      <th>time</th>\n",
       "      <th>size</th>\n",
       "    </tr>\n",
       "  </thead>\n",
       "  <tbody>\n",
       "    <tr>\n",
       "      <th>0</th>\n",
       "      <td>16.99</td>\n",
       "      <td>1.01</td>\n",
       "      <td>Female</td>\n",
       "      <td>No</td>\n",
       "      <td>Sun</td>\n",
       "      <td>Dinner</td>\n",
       "      <td>2</td>\n",
       "    </tr>\n",
       "    <tr>\n",
       "      <th>1</th>\n",
       "      <td>10.34</td>\n",
       "      <td>1.66</td>\n",
       "      <td>Male</td>\n",
       "      <td>No</td>\n",
       "      <td>Sun</td>\n",
       "      <td>Dinner</td>\n",
       "      <td>3</td>\n",
       "    </tr>\n",
       "    <tr>\n",
       "      <th>2</th>\n",
       "      <td>21.01</td>\n",
       "      <td>3.50</td>\n",
       "      <td>Male</td>\n",
       "      <td>No</td>\n",
       "      <td>Sun</td>\n",
       "      <td>Dinner</td>\n",
       "      <td>3</td>\n",
       "    </tr>\n",
       "    <tr>\n",
       "      <th>3</th>\n",
       "      <td>23.68</td>\n",
       "      <td>3.31</td>\n",
       "      <td>Male</td>\n",
       "      <td>No</td>\n",
       "      <td>Sun</td>\n",
       "      <td>Dinner</td>\n",
       "      <td>2</td>\n",
       "    </tr>\n",
       "    <tr>\n",
       "      <th>4</th>\n",
       "      <td>24.59</td>\n",
       "      <td>3.61</td>\n",
       "      <td>Female</td>\n",
       "      <td>No</td>\n",
       "      <td>Sun</td>\n",
       "      <td>Dinner</td>\n",
       "      <td>4</td>\n",
       "    </tr>\n",
       "  </tbody>\n",
       "</table>\n",
       "</div>"
      ],
      "text/plain": [
       "   total_bill   tip     sex smoker  day    time  size\n",
       "0       16.99  1.01  Female     No  Sun  Dinner     2\n",
       "1       10.34  1.66    Male     No  Sun  Dinner     3\n",
       "2       21.01  3.50    Male     No  Sun  Dinner     3\n",
       "3       23.68  3.31    Male     No  Sun  Dinner     2\n",
       "4       24.59  3.61  Female     No  Sun  Dinner     4"
      ]
     },
     "execution_count": 89,
     "metadata": {},
     "output_type": "execute_result"
    }
   ],
   "source": [
    "## Store the clean data wrt IQR and then find skewness, kurtosis and dis\n",
    "\n",
    "df3 = df1[(df1.total_bill>LC) & (df1.total_bill<UC)]\n",
    "df3.head()"
   ]
  },
  {
   "cell_type": "code",
   "execution_count": 90,
   "metadata": {},
   "outputs": [
    {
     "data": {
      "text/plain": [
       "(235, 7)"
      ]
     },
     "execution_count": 90,
     "metadata": {},
     "output_type": "execute_result"
    }
   ],
   "source": [
    "df3.shape"
   ]
  },
  {
   "cell_type": "code",
   "execution_count": 91,
   "metadata": {},
   "outputs": [
    {
     "name": "stdout",
     "output_type": "stream",
     "text": [
      "The skewness of Original Data is 1.1332130376158205 \n",
      "The skewness of Z-Score Cleaned Data is 0.9148510261489988 \n",
      "The skewness of IQR Cleaned Data is 0.7255976389840281 \n",
      "\n",
      "The kurtosis of Original Data is 1.2184840156638854 \n",
      "The kurtosis of Z-Score Cleaned Data is 0.5355590055930715 \n",
      "The kurtosis of IQR Cleaned Data is 0.050898514819063934 \n"
     ]
    }
   ],
   "source": [
    "print(\"The skewness of Original Data is {} \".format(df.total_bill.skew()))\n",
    "print('The skewness of Z-Score Cleaned Data is {} '.format(df2.total_bill.skew()))\n",
    "print('The skewness of IQR Cleaned Data is {} '.format(df3.total_bill.skew()))\n",
    "\n",
    "print('')\n",
    "\n",
    "print('The kurtosis of Original Data is {} '.format(df.total_bill.kurt()))\n",
    "print('The kurtosis of Z-Score Cleaned Data is {} '.format(df2.total_bill.kurt()))\n",
    "print('The kurtosis of IQR Cleaned Data is {} '.format(df3.total_bill.kurt()))"
   ]
  },
  {
   "cell_type": "code",
   "execution_count": 92,
   "metadata": {},
   "outputs": [
    {
     "data": {
      "image/png": "[encoded data removed]",
      "text/plain": [
       "<Figure size 1080x360 with 3 Axes>"
      ]
     },
     "metadata": {
      "needs_background": "light"
     },
     "output_type": "display_data"
    }
   ],
   "source": [
    "# plotting:\n",
    "\n",
    "fig, axes = plt.subplots(1,3, figsize=(15,5))\n",
    "\n",
    "sns.distplot(df1.total_bill, ax=axes[0])\n",
    "sns.distplot(df2.total_bill, ax=axes[1])\n",
    "sns.distplot(df3.total_bill, ax=axes[2])\n",
    "\n",
    "plt.show()"
   ]
  },
  {
   "cell_type": "markdown",
   "metadata": {},
   "source": [
    "### Inference:\n",
    "\n",
    "The height at value 40 is more now & is concentrated.\n",
    "\n",
    "In the IQR cleaned data ---> more 0 hence more closer to Mesokurtoic(normal data) i.e. is less skewed. \n",
    "The peakedness has reduced i.e is less Kurotic\n",
    "The slope is all the more shorter\n",
    "\n",
    "\n",
    "IQR method is completely positional and Z-Score one is the calculated one."
   ]
  },
  {
   "cell_type": "code",
   "execution_count": 93,
   "metadata": {},
   "outputs": [
    {
     "data": {
      "image/png": "[encoded data removed]",
      "text/plain": [
       "<Figure size 432x288 with 1 Axes>"
      ]
     },
     "metadata": {
      "needs_background": "light"
     },
     "output_type": "display_data"
    }
   ],
   "source": [
    "## Box Plot for total_bill --- based on IQR Method\n",
    "\n",
    "sns.boxplot(df1.total_bill)\n",
    "plt.show()"
   ]
  },
  {
   "cell_type": "code",
   "execution_count": 94,
   "metadata": {},
   "outputs": [
    {
     "data": {
      "image/png": "[encoded data removed]",
      "text/plain": [
       "<Figure size 432x288 with 1 Axes>"
      ]
     },
     "metadata": {
      "needs_background": "light"
     },
     "output_type": "display_data"
    }
   ],
   "source": [
    "# Box Plot for total_bill --- based on Z-score cleaned data \n",
    "\n",
    "sns.boxplot(df2.total_bill)\n",
    "plt.show()"
   ]
  },
  {
   "cell_type": "code",
   "execution_count": 95,
   "metadata": {
    "scrolled": true
   },
   "outputs": [
    {
     "data": {
      "image/png": "[encoded data removed]",
      "text/plain": [
       "<Figure size 432x288 with 1 Axes>"
      ]
     },
     "metadata": {
      "needs_background": "light"
     },
     "output_type": "display_data"
    }
   ],
   "source": [
    "# Box Plot for total_bill --- based on IQR cleaned data \n",
    "\n",
    "sns.boxplot(df3.total_bill)\n",
    "plt.show()"
   ]
  },
  {
   "cell_type": "markdown",
   "metadata": {},
   "source": [
    "-------------------"
   ]
  },
  {
   "cell_type": "markdown",
   "metadata": {},
   "source": [
    "### 6. Scaling the Numerical Features\n",
    "\n",
    "There are two ways to scale the data: \n",
    "\n",
    "1) Normalization (i.e Z-Score)\\\n",
    "2) Min Max Scalar\n",
    "\n",
    "Both can by done manually as well as have in-built functions in sklearn. Will demonstrate both."
   ]
  },
  {
   "cell_type": "markdown",
   "metadata": {},
   "source": [
    "### 6a. Normalizing (Z-Score)\n",
    "\n",
    "Scales the data using the formula (x-mean)/standard deviation\n",
    "\n",
    "#### Manually:"
   ]
  },
  {
   "cell_type": "code",
   "execution_count": 100,
   "metadata": {},
   "outputs": [
    {
     "data": {
      "text/plain": [
       "19.785942622950824"
      ]
     },
     "execution_count": 100,
     "metadata": {},
     "output_type": "execute_result"
    }
   ],
   "source": [
    "avg_total_bill = df1['total_bill'].mean()\n",
    "avg_total_bill"
   ]
  },
  {
   "cell_type": "code",
   "execution_count": 101,
   "metadata": {},
   "outputs": [
    {
     "data": {
      "text/plain": [
       "8.902411954856856"
      ]
     },
     "execution_count": 101,
     "metadata": {},
     "output_type": "execute_result"
    }
   ],
   "source": [
    "std_total_bill = df1['total_bill'].std()\n",
    "std_total_bill"
   ]
  },
  {
   "cell_type": "code",
   "execution_count": 102,
   "metadata": {},
   "outputs": [],
   "source": [
    "# Step 1 : transform using Z-score\n",
    "df1['Z_Score_Total_Bill'] = (df1['total_bill'] - avg_total_bill )/std_total_bill"
   ]
  },
  {
   "cell_type": "code",
   "execution_count": 104,
   "metadata": {},
   "outputs": [
    {
     "data": {
      "text/html": [
       "<div>\n",
       "<style scoped>\n",
       "    .dataframe tbody tr th:only-of-type {\n",
       "        vertical-align: middle;\n",
       "    }\n",
       "\n",
       "    .dataframe tbody tr th {\n",
       "        vertical-align: top;\n",
       "    }\n",
       "\n",
       "    .dataframe thead th {\n",
       "        text-align: right;\n",
       "    }\n",
       "</style>\n",
       "<table border=\"1\" class=\"dataframe\">\n",
       "  <thead>\n",
       "    <tr style=\"text-align: right;\">\n",
       "      <th></th>\n",
       "      <th>total_bill</th>\n",
       "      <th>tip</th>\n",
       "      <th>sex</th>\n",
       "      <th>smoker</th>\n",
       "      <th>day</th>\n",
       "      <th>time</th>\n",
       "      <th>size</th>\n",
       "      <th>Z_Score_Total_Bill</th>\n",
       "    </tr>\n",
       "  </thead>\n",
       "  <tbody>\n",
       "    <tr>\n",
       "      <th>0</th>\n",
       "      <td>16.99</td>\n",
       "      <td>1.01</td>\n",
       "      <td>Female</td>\n",
       "      <td>No</td>\n",
       "      <td>Sun</td>\n",
       "      <td>Dinner</td>\n",
       "      <td>2</td>\n",
       "      <td>-0.314066</td>\n",
       "    </tr>\n",
       "    <tr>\n",
       "      <th>1</th>\n",
       "      <td>10.34</td>\n",
       "      <td>1.66</td>\n",
       "      <td>Male</td>\n",
       "      <td>No</td>\n",
       "      <td>Sun</td>\n",
       "      <td>Dinner</td>\n",
       "      <td>3</td>\n",
       "      <td>-1.061054</td>\n",
       "    </tr>\n",
       "    <tr>\n",
       "      <th>2</th>\n",
       "      <td>21.01</td>\n",
       "      <td>3.50</td>\n",
       "      <td>Male</td>\n",
       "      <td>No</td>\n",
       "      <td>Sun</td>\n",
       "      <td>Dinner</td>\n",
       "      <td>3</td>\n",
       "      <td>0.137497</td>\n",
       "    </tr>\n",
       "    <tr>\n",
       "      <th>3</th>\n",
       "      <td>23.68</td>\n",
       "      <td>3.31</td>\n",
       "      <td>Male</td>\n",
       "      <td>No</td>\n",
       "      <td>Sun</td>\n",
       "      <td>Dinner</td>\n",
       "      <td>2</td>\n",
       "      <td>0.437416</td>\n",
       "    </tr>\n",
       "    <tr>\n",
       "      <th>4</th>\n",
       "      <td>24.59</td>\n",
       "      <td>3.61</td>\n",
       "      <td>Female</td>\n",
       "      <td>No</td>\n",
       "      <td>Sun</td>\n",
       "      <td>Dinner</td>\n",
       "      <td>4</td>\n",
       "      <td>0.539635</td>\n",
       "    </tr>\n",
       "  </tbody>\n",
       "</table>\n",
       "</div>"
      ],
      "text/plain": [
       "   total_bill   tip     sex smoker  day    time  size  Z_Score_Total_Bill\n",
       "0       16.99  1.01  Female     No  Sun  Dinner     2           -0.314066\n",
       "1       10.34  1.66    Male     No  Sun  Dinner     3           -1.061054\n",
       "2       21.01  3.50    Male     No  Sun  Dinner     3            0.137497\n",
       "3       23.68  3.31    Male     No  Sun  Dinner     2            0.437416\n",
       "4       24.59  3.61  Female     No  Sun  Dinner     4            0.539635"
      ]
     },
     "execution_count": 104,
     "metadata": {},
     "output_type": "execute_result"
    }
   ],
   "source": [
    "df1.head()"
   ]
  },
  {
   "cell_type": "code",
   "execution_count": 106,
   "metadata": {},
   "outputs": [
    {
     "name": "stdout",
     "output_type": "stream",
     "text": [
      "The skewness for the original data is 1.1332130376158205.\n",
      "The kurtosis for the original data is 1.2184840156638854.\n",
      "\n",
      "The skewness for the Zscore Scaled column is 1.1332130376158207.\n",
      "The kurtosis for the Zscore Scaled columns is 1.2184840156638828.\n"
     ]
    }
   ],
   "source": [
    "print(\"The skewness for the original data is {}.\".format(df1.total_bill.skew()))\n",
    "print(\"The kurtosis for the original data is {}.\".format(df1.total_bill.kurt()))\n",
    "\n",
    "print('')\n",
    "\n",
    "print(\"The skewness for the Zscore Scaled column is {}.\".format(df1.Z_Score_Total_Bill.skew()))\n",
    "print(\"The kurtosis for the Zscore Scaled columns is {}.\".format(df1.Z_Score_Total_Bill.kurt()))"
   ]
  },
  {
   "cell_type": "code",
   "execution_count": 107,
   "metadata": {},
   "outputs": [
    {
     "data": {
      "image/png": "[encoded data removed]",
      "text/plain": [
       "<Figure size 1080x360 with 2 Axes>"
      ]
     },
     "metadata": {
      "needs_background": "light"
     },
     "output_type": "display_data"
    }
   ],
   "source": [
    "# Distribution of the columns\n",
    "\n",
    "fig, axes = plt.subplots(1,2, figsize=(15,5))\n",
    "\n",
    "sns.distplot(df1['total_bill'], ax=axes[0])\n",
    "sns.distplot(df1['Z_Score_Total_Bill'], ax=axes[1])\n",
    "\n",
    "plt.show()"
   ]
  },
  {
   "cell_type": "markdown",
   "metadata": {},
   "source": [
    "The only difference between the two curves is of the Range on the x-axis. The impact of scaling on data is:\n",
    "Skewness, Kurtosis and Distribution all remain same.\n",
    "\n",
    "The need for Scaling is :\n",
    "\n",
    "1) Comparison between variables is easier\\\n",
    "2) Computation power is more efficient and less time consuming."
   ]
  },
  {
   "cell_type": "markdown",
   "metadata": {},
   "source": [
    "#### By SkLearn:\n",
    "\n",
    "Dpcumentation for Standard Scaler: https://scikit-learn.org/stable/modules/generated/sklearn.preprocessing.StandardScaler.html"
   ]
  },
  {
   "cell_type": "code",
   "execution_count": 115,
   "metadata": {},
   "outputs": [],
   "source": [
    "# loading tips data:\n",
    "\n",
    "df_tips = sns.load_dataset('tips')\n",
    "\n",
    "tips_num = df_tips.select_dtypes([np.number])"
   ]
  },
  {
   "cell_type": "code",
   "execution_count": 111,
   "metadata": {},
   "outputs": [],
   "source": [
    "from sklearn.preprocessing import StandardScaler"
   ]
  },
  {
   "cell_type": "code",
   "execution_count": 119,
   "metadata": {},
   "outputs": [
    {
     "data": {
      "text/plain": [
       "array([[-3.14711305e-01, -1.43994695e+00, -6.00192629e-01],\n",
       "       [-1.06323531e+00, -9.69205340e-01,  4.53382921e-01],\n",
       "       [ 1.37779900e-01,  3.63355539e-01,  4.53382921e-01],\n",
       "       [ 4.38315103e-01,  2.25754144e-01, -6.00192629e-01],\n",
       "       [ 5.40744704e-01,  4.43019505e-01,  1.50695847e+00],\n",
       "       [ 6.19536705e-01,  1.23965916e+00,  1.50695847e+00],\n",
       "       [-1.23995452e+00, -7.22971264e-01, -6.00192629e-01],\n",
       "       [ 7.98507107e-01,  8.81527488e-02,  1.50695847e+00],\n",
       "       [-5.34203307e-01, -7.51939979e-01, -6.00192629e-01],\n",
       "       [-5.63468908e-01,  1.67816714e-01, -6.00192629e-01],\n",
       "       [-1.07111451e+00, -9.32994446e-01, -6.00192629e-01],\n",
       "       [ 1.74175992e+00,  1.44968234e+00,  1.50695847e+00],\n",
       "       [-4.91430507e-01, -1.03438495e+00, -6.00192629e-01],\n",
       "       [-1.52624903e-01,  1.24660453e-03,  1.50695847e+00],\n",
       "       [-5.57840908e-01,  1.57309619e-02, -6.00192629e-01],\n",
       "       [ 2.01939101e-01,  6.67527044e-01, -6.00192629e-01],\n",
       "       [-1.06436091e+00, -9.61963161e-01,  4.53382921e-01],\n",
       "       [-3.93503306e-01,  5.15441291e-01,  4.53382921e-01],\n",
       "       [-3.16962505e-01,  3.63355539e-01,  4.53382921e-01],\n",
       "       [ 9.72582994e-02,  2.54722859e-01,  4.53382921e-01],\n",
       "       [-2.10030504e-01,  7.83401903e-01, -6.00192629e-01],\n",
       "       [ 5.67366990e-02, -1.79807863e-01, -6.00192629e-01],\n",
       "       [-4.52034507e-01, -5.56401155e-01, -6.00192629e-01],\n",
       "       [ 2.21000952e+00,  3.31816444e+00,  1.50695847e+00],\n",
       "       [ 3.83349840e-03,  1.31605821e-01, -6.00192629e-01],\n",
       "       [-2.22412104e-01, -4.76737189e-01,  1.50695847e+00],\n",
       "       [-7.22178510e-01, -7.22971264e-01, -6.00192629e-01],\n",
       "       [-7.98719310e-01, -7.22971264e-01, -6.00192629e-01],\n",
       "       [ 2.15446301e-01,  9.42729834e-01, -6.00192629e-01],\n",
       "       [-1.53017018e-02,  1.24660453e-03, -6.00192629e-01],\n",
       "       [-1.15215771e+00, -1.12129109e+00, -6.00192629e-01],\n",
       "       [-1.61629703e-01, -3.60862330e-01,  1.50695847e+00],\n",
       "       [-5.31952107e-01,  1.24660453e-03, -6.00192629e-01],\n",
       "       [ 1.01760699e-01, -3.97073223e-01,  1.50695847e+00],\n",
       "       [-2.25788904e-01,  1.96785429e-01, -6.00192629e-01],\n",
       "       [ 4.81087904e-01,  4.35777326e-01,  4.53382921e-01],\n",
       "       [-3.91252106e-01, -7.22971264e-01,  4.53382921e-01],\n",
       "       [-3.21464905e-01,  5.19418554e-02,  4.53382921e-01],\n",
       "       [-1.23359303e-01, -4.98463725e-01,  4.53382921e-01],\n",
       "       [ 1.29264551e+00,  1.44968234e+00,  4.53382921e-01],\n",
       "       [-4.21643306e-01, -5.49158976e-01,  4.53382921e-01],\n",
       "       [-2.61808105e-01, -3.31893615e-01, -6.00192629e-01],\n",
       "       [-6.58019309e-01,  4.46996767e-02, -6.00192629e-01],\n",
       "       [-1.13752491e+00, -1.21543942e+00, -6.00192629e-01],\n",
       "       [ 1.19471831e+00,  1.88421306e+00,  1.50695847e+00],\n",
       "       [-1.68383303e-01,  1.24660453e-03, -6.00192629e-01],\n",
       "       [ 2.75103101e-01,  1.44968234e+00, -6.00192629e-01],\n",
       "       [ 1.41983831e+00,  2.17390021e+00,  1.50695847e+00],\n",
       "       [ 9.86482309e-01, -6.86760371e-01,  4.53382921e-01],\n",
       "       [-1.96523304e-01,  1.24660453e-03, -6.00192629e-01],\n",
       "       [-8.15603311e-01, -3.60862330e-01, -6.00192629e-01],\n",
       "       [-1.06886331e+00, -2.88440543e-01, -6.00192629e-01],\n",
       "       [ 1.69110792e+00,  1.59452592e+00,  1.50695847e+00],\n",
       "       [-1.10825931e+00, -1.04162713e+00, -6.00192629e-01],\n",
       "       [ 6.49927905e-01,  9.71698549e-01,  1.50695847e+00],\n",
       "       [-3.33113020e-02,  3.70597718e-01, -6.00192629e-01],\n",
       "       [ 2.05129992e+00,  1.24660453e-03,  1.50695847e+00],\n",
       "       [ 7.45603907e-01, -1.08508020e+00, -6.00192629e-01],\n",
       "       [-9.61931312e-01, -8.96783553e-01, -6.00192629e-01],\n",
       "       [ 3.20616553e+00,  2.70257926e+00,  1.50695847e+00],\n",
       "       [ 5.67366990e-02,  1.53332357e-01, -6.00192629e-01],\n",
       "       [-6.72652109e-01, -7.22971264e-01, -6.00192629e-01],\n",
       "       [-9.86694512e-01, -7.37455622e-01, -6.00192629e-01],\n",
       "       [-1.68383303e-01,  5.51652185e-01,  1.50695847e+00],\n",
       "       [-2.47175304e-01, -2.59471828e-01,  4.53382921e-01],\n",
       "       [ 3.30990987e-02,  1.09879285e-01,  4.53382921e-01],\n",
       "       [-3.75493706e-01, -3.82588866e-01, -6.00192629e-01],\n",
       "       [-1.88154652e+00, -1.44718913e+00, -1.65376818e+00],\n",
       "       [ 4.99830989e-02, -7.15729086e-01, -6.00192629e-01],\n",
       "       [-5.37580108e-01, -6.57791656e-01, -6.00192629e-01],\n",
       "       [-8.74134511e-01, -7.44697800e-01, -6.00192629e-01],\n",
       "       [-3.05706505e-01,  1.24660453e-03,  4.53382921e-01],\n",
       "       [ 7.96255907e-01,  1.02637106e-01, -6.00192629e-01],\n",
       "       [ 6.18411105e-01,  1.44968234e+00, -6.00192629e-01],\n",
       "       [-5.69096908e-01, -5.78127691e-01, -6.00192629e-01],\n",
       "       [-1.04410011e+00, -1.26613467e+00, -6.00192629e-01],\n",
       "       [-2.10030504e-01,  5.91840340e-02, -6.00192629e-01],\n",
       "       [ 8.34526308e-01,  7.25464473e-01,  1.50695847e+00],\n",
       "       [ 3.34759902e-01,  1.24660453e-03, -6.00192629e-01],\n",
       "       [-2.80943305e-01, -2.08776577e-01, -6.00192629e-01],\n",
       "       [-3.89393021e-02,  1.24660453e-03, -6.00192629e-01],\n",
       "       [-3.51856105e-01,  2.90933752e-01, -6.00192629e-01],\n",
       "       [-1.09362651e+00, -8.46088302e-01, -1.65376818e+00],\n",
       "       [ 1.45135511e+00,  1.44968234e+00, -6.00192629e-01],\n",
       "       [-4.28396906e-01, -7.01244728e-01, -6.00192629e-01],\n",
       "       [ 1.69335912e+00,  1.57279938e+00,  1.50695847e+00],\n",
       "       [-7.60448910e-01, -7.22971264e-01, -6.00192629e-01],\n",
       "       [-1.69508903e-01,  7.25464473e-01, -6.00192629e-01],\n",
       "       [ 5.54251904e-01,  2.06526753e+00, -6.00192629e-01],\n",
       "       [ 1.54663900e-01,  1.24660453e-03, -6.00192629e-01],\n",
       "       [ 1.03375751e+00,  1.24660453e-03, -6.00192629e-01],\n",
       "       [ 3.04368702e-01,  3.63355539e-01, -6.00192629e-01],\n",
       "       [-1.57988572e+00, -1.44718913e+00, -6.00192629e-01],\n",
       "       [-3.90126506e-01,  9.42729834e-01, -6.00192629e-01],\n",
       "       [ 3.33634302e-01,  1.82301072e-01, -6.00192629e-01],\n",
       "       [ 2.29442952e+00,  1.25414352e+00,  1.50695847e+00],\n",
       "       [ 8.43531108e-01,  7.25464473e-01, -6.00192629e-01],\n",
       "       [-8.73008911e-01, -1.08508020e+00, -6.00192629e-01],\n",
       "       [ 1.37779900e-01,  1.24660453e-03, -6.00192629e-01],\n",
       "       [-8.24608111e-01, -1.08508020e+00, -6.00192629e-01],\n",
       "       [-9.49549712e-01, -3.60862330e-01, -6.00192629e-01],\n",
       "       [-4.95932907e-01,  1.24660453e-03, -6.00192629e-01],\n",
       "       [ 2.75930233e+00, -3.60862330e-01,  4.53382921e-01],\n",
       "       [ 2.96489502e-01,  3.48871182e-01, -6.00192629e-01],\n",
       "       [ 1.27649500e-01,  7.83401903e-01, -6.00192629e-01],\n",
       "       [-4.98184107e-01, -9.83689697e-01, -6.00192629e-01],\n",
       "       [ 7.92486992e-02,  7.68917546e-01, -6.00192629e-01],\n",
       "       [ 6.10531905e-01,  9.35487655e-01, -6.00192629e-01],\n",
       "       [-1.74011304e-01,  5.51652185e-01, -6.00192629e-01],\n",
       "       [-6.16372108e-01,  7.25464473e-01, -6.00192629e-01],\n",
       "       [-6.51265709e-01,  1.24660453e-03, -6.00192629e-01],\n",
       "       [-1.41104572e+00, -1.44718913e+00, -1.65376818e+00],\n",
       "       [ 2.05805352e+00,  7.25464473e-01,  4.53382921e-01],\n",
       "       [ 4.68706304e-01, -3.24651436e-01, -6.00192629e-01],\n",
       "       [ 6.66811906e-01,  7.25464473e-01,  4.53382921e-01],\n",
       "       [-2.78692105e-01,  3.63355539e-01, -6.00192629e-01],\n",
       "       [ 1.14181511e+00,  1.50037759e+00,  1.50695847e+00],\n",
       "       [-1.02834171e+00, -1.08508020e+00, -6.00192629e-01],\n",
       "       [-8.27984911e-01, -8.67814838e-01, -6.00192629e-01],\n",
       "       [ 4.83339104e-01, -5.66908250e-02,  1.50695847e+00],\n",
       "       [-9.11279312e-01, -4.98463725e-01, -6.00192629e-01],\n",
       "       [-7.16550509e-01, -9.54720982e-01, -6.00192629e-01],\n",
       "       [-6.22000108e-01, -3.60862330e-01, -6.00192629e-01],\n",
       "       [-4.31773706e-01, -7.22971264e-01, -6.00192629e-01],\n",
       "       [-8.22356911e-01, -3.46377973e-01, -6.00192629e-01],\n",
       "       [ 1.12718231e+00,  8.70308047e-01,  3.61410957e+00],\n",
       "       [-1.26809452e+00, -1.09956456e+00, -6.00192629e-01],\n",
       "       [-5.92734508e-01, -7.22971264e-01, -6.00192629e-01],\n",
       "       [-9.46172912e-01, -7.22971264e-01, -6.00192629e-01],\n",
       "       [ 3.41513502e-01, -5.92612048e-01,  4.53382921e-01],\n",
       "       [-7.94609025e-02, -1.08508020e+00, -6.00192629e-01],\n",
       "       [ 5.44854990e-02, -1.21870433e-01, -6.00192629e-01],\n",
       "       [-9.69810512e-01, -1.08508020e+00, -6.00192629e-01],\n",
       "       [-8.47120111e-01, -7.22971264e-01, -6.00192629e-01],\n",
       "       [-1.71760104e-01,  1.82301072e-01, -6.00192629e-01],\n",
       "       [-1.26922012e+00, -1.26613467e+00, -6.00192629e-01],\n",
       "       [-1.06436091e+00, -7.22971264e-01, -6.00192629e-01],\n",
       "       [-6.34381709e-01, -7.22971264e-01, -6.00192629e-01],\n",
       "       [-4.26145706e-01, -7.22971264e-01, -6.00192629e-01],\n",
       "       [-7.45816110e-01, -1.79807863e-01, -6.00192629e-01],\n",
       "       [-2.60682504e-01,  3.63355539e-01, -6.00192629e-01],\n",
       "       [ 1.63370232e+00,  2.68085272e+00,  3.61410957e+00],\n",
       "       [ 2.40924072e+00,  1.44968234e+00,  2.56053402e+00],\n",
       "       [ 8.17642307e-01,  1.44968234e+00,  3.61410957e+00],\n",
       "       [-3.77744906e-01, -5.05705904e-01, -6.00192629e-01],\n",
       "       [-1.28722972e+00, -1.08508020e+00, -6.00192629e-01],\n",
       "       [-1.28987303e-01, -1.18647070e+00,  4.53382921e-01],\n",
       "       [-8.91018511e-01, -9.90931876e-01, -6.00192629e-01],\n",
       "       [-1.12626891e+00, -9.18510089e-01, -6.00192629e-01],\n",
       "       [-1.38178012e+00, -7.22971264e-01, -6.00192629e-01],\n",
       "       [-6.43386509e-01, -3.60862330e-01, -6.00192629e-01],\n",
       "       [-7.49192910e-01, -7.22971264e-01, -6.00192629e-01],\n",
       "       [-2.84320105e-01, -1.87050041e-01,  4.53382921e-01],\n",
       "       [ 5.36242304e-01, -7.22971264e-01,  1.50695847e+00],\n",
       "       [-1.79450166e-03, -7.22971264e-01,  1.50695847e+00],\n",
       "       [ 1.13281031e+00,  1.55107284e+00,  2.56053402e+00],\n",
       "       [ 3.19490953e+00,  1.44968234e+00,  3.61410957e+00],\n",
       "       [ 5.86894305e-01,  5.44410006e-01,  1.50695847e+00],\n",
       "       [-7.19927310e-01, -2.81198364e-01, -6.00192629e-01],\n",
       "       [-3.70991306e-01, -7.22971264e-01,  1.50695847e+00],\n",
       "       [ 1.92934300e-01,  3.63355539e-01,  1.50695847e+00],\n",
       "       [-8.02096110e-01, -3.60862330e-01, -6.00192629e-01],\n",
       "       [-4.02508106e-01, -7.22971264e-01,  4.53382921e-01],\n",
       "       [-6.72652109e-01, -7.22971264e-01, -6.00192629e-01],\n",
       "       [-2.56180104e-01,  1.24660453e-03, -6.00192629e-01],\n",
       "       [ 5.32865504e-01,  3.48871182e-01,  4.53382921e-01],\n",
       "       [ 1.09639900e-01, -5.49158976e-01, -6.00192629e-01],\n",
       "       [ 1.34217191e+00,  1.08757341e+00,  1.50695847e+00],\n",
       "       [-1.03509531e+00, -1.00541623e+00, -6.00192629e-01],\n",
       "       [-1.03059291e+00, -7.22971264e-01, -6.00192629e-01],\n",
       "       [ 3.49206794e+00,  5.07077169e+00,  4.53382921e-01],\n",
       "       [-4.47532107e-01,  1.17121464e-01, -6.00192629e-01],\n",
       "       [-1.41104572e+00,  1.55831502e+00, -6.00192629e-01],\n",
       "       [ 1.35793031e+00,  1.31605821e-01, -6.00192629e-01],\n",
       "       [-3.33846505e-01,  7.25464473e-01, -6.00192629e-01],\n",
       "       [ 1.47611831e+00,  8.09105701e-02, -6.00192629e-01],\n",
       "       [-2.13407304e-01, -7.22971264e-01, -6.00192629e-01],\n",
       "       [-5.97236908e-01, -7.22971264e-01, -6.00192629e-01],\n",
       "       [-1.14652971e+00,  7.25464473e-01, -6.00192629e-01],\n",
       "       [ 1.67084712e+00,  3.99566432e-01, -6.00192629e-01],\n",
       "       [ 1.67309832e+00,  4.93714755e-01,  1.50695847e+00],\n",
       "       [ 3.98919103e-01,  1.92042396e+00, -6.00192629e-01],\n",
       "       [ 2.87749033e+00,  3.63355539e-01,  4.53382921e-01],\n",
       "       [ 3.80909503e-01,  2.53600915e+00,  1.50695847e+00],\n",
       "       [ 2.33720232e+00,  1.24660453e-03, -6.00192629e-01],\n",
       "       [ 1.01760699e-01,  1.44968234e+00,  2.56053402e+00],\n",
       "       [ 1.25398300e-01,  3.63355539e-01,  4.53382921e-01],\n",
       "       [ 1.20147191e+00, -7.22971264e-01,  2.56053402e+00],\n",
       "       [-1.84141704e-01,  3.63355539e-01,  4.53382921e-01],\n",
       "       [ 3.73030302e-01,  7.25464473e-01,  4.53382921e-01],\n",
       "       [-4.61039307e-01, -1.08508020e+00, -6.00192629e-01],\n",
       "       [ 2.70789839e-03,  8.63065869e-01, -6.00192629e-01],\n",
       "       [ 9.74100709e-01, -3.17409258e-01, -6.00192629e-01],\n",
       "       [-4.84676907e-01, -7.08486907e-01, -6.00192629e-01],\n",
       "       [-3.60860906e-01,  7.25464473e-01, -6.00192629e-01],\n",
       "       [-1.37615212e+00, -1.12853327e+00, -6.00192629e-01],\n",
       "       [-1.06323531e+00, -7.22971264e-01, -6.00192629e-01],\n",
       "       [ 2.62535593e+00,  1.44968234e+00,  1.50695847e+00],\n",
       "       [-7.63825710e-01, -7.22971264e-01, -6.00192629e-01],\n",
       "       [-7.06420109e-01, -7.22971264e-01, -6.00192629e-01],\n",
       "       [-1.21108103e-01,  7.25464473e-01,  4.53382921e-01],\n",
       "       [-7.93091310e-01, -7.15729086e-01, -6.00192629e-01],\n",
       "       [-7.63825710e-01, -7.22971264e-01, -6.00192629e-01],\n",
       "       [-3.81121706e-01, -3.60862330e-01, -6.00192629e-01],\n",
       "       [ 8.37510993e-02,  7.25464473e-01,  1.50695847e+00],\n",
       "       [-3.73242506e-01,  1.67816714e-01,  4.53382921e-01],\n",
       "       [ 7.65864707e-01,  2.98175931e-01,  4.53382921e-01],\n",
       "       [ 2.13234312e+00,  1.24660453e-03,  1.50695847e+00],\n",
       "       [ 5.04725504e-01, -7.01244728e-01, -6.00192629e-01],\n",
       "       [-7.90840110e-01, -5.56401155e-01, -6.00192629e-01],\n",
       "       [ 1.15644791e+00, -7.22971264e-01,  4.53382921e-01],\n",
       "       [ 6.87072706e-01,  1.56555720e+00,  1.50695847e+00],\n",
       "       [ 3.21291913e+00,  4.34655382e+00,  1.50695847e+00],\n",
       "       [-7.33434510e-01, -3.60862330e-01, -6.00192629e-01],\n",
       "       [ 9.43709509e-01,  2.53600915e+00,  4.53382921e-01],\n",
       "       [-7.75081710e-01, -1.37476735e+00, -6.00192629e-01],\n",
       "       [ 9.41458309e-01,  1.24660453e-03,  2.56053402e+00],\n",
       "       [-9.22535312e-01, -1.08508020e+00, -6.00192629e-01],\n",
       "       [-1.35589132e+00, -1.12853327e+00, -6.00192629e-01],\n",
       "       [ 1.16545271e+00,  6.64262127e-02,  1.50695847e+00],\n",
       "       [-8.58376111e-01, -5.78127691e-01, -6.00192629e-01],\n",
       "       [-7.16550509e-01,  3.48871182e-01, -6.00192629e-01],\n",
       "       [-1.26134092e+00, -7.80908694e-01, -1.65376818e+00],\n",
       "       [-4.28396906e-01,  1.24660453e-03,  4.53382921e-01],\n",
       "       [-7.16550509e-01, -1.02714277e+00, -6.00192629e-01],\n",
       "       [-3.95754506e-01, -3.60862330e-01, -6.00192629e-01],\n",
       "       [-1.09137531e+00, -7.22971264e-01, -6.00192629e-01],\n",
       "       [ 7.47462992e-02,  1.24660453e-03,  1.50695847e+00],\n",
       "       [-7.32308910e-01, -2.01534399e-01, -6.00192629e-01],\n",
       "       [ 2.62721501e-01, -8.56595397e-02, -6.00192629e-01],\n",
       "       [ 4.75459904e-01, -7.22971264e-01,  1.50695847e+00],\n",
       "       [-4.61039307e-01,  1.24660453e-03,  4.53382921e-01],\n",
       "       [-9.20284112e-01,  2.83691573e-01, -6.00192629e-01],\n",
       "       [-1.01483451e+00, -1.10680673e+00, -6.00192629e-01],\n",
       "       [-4.79048907e-01,  1.24660453e-03, -6.00192629e-01],\n",
       "       [-1.09362651e+00, -1.26613467e+00, -6.00192629e-01],\n",
       "       [-8.08849711e-01, -1.44718913e+00, -6.00192629e-01],\n",
       "       [ 1.46823911e+00, -1.32407210e+00, -6.00192629e-01],\n",
       "       [ 1.80591912e+00,  1.21069045e+00,  4.53382921e-01],\n",
       "       [ 1.04051111e+00,  2.11596278e+00,  4.53382921e-01],\n",
       "       [ 8.32275107e-01, -7.22971264e-01, -6.00192629e-01],\n",
       "       [ 3.24629502e-01, -7.22971264e-01, -6.00192629e-01],\n",
       "       [-2.21286504e-01, -9.04025732e-01, -6.00192629e-01],\n",
       "       [-1.13228903e-01,  1.24660453e-03, -6.00192629e-01]])"
      ]
     },
     "execution_count": 119,
     "metadata": {},
     "output_type": "execute_result"
    }
   ],
   "source": [
    "SS = StandardScaler()\n",
    "\n",
    "scaled_x = SS.fit_transform(tips_num)\n",
    "scaled_x"
   ]
  },
  {
   "cell_type": "markdown",
   "metadata": {},
   "source": [
    "### 6b. Min_Max Scaler\n",
    "\n",
    "Scales the data using the formula (x - min)/(max - min)\n",
    "\n",
    "#### Manually:"
   ]
  },
  {
   "cell_type": "code",
   "execution_count": 122,
   "metadata": {},
   "outputs": [
    {
     "data": {
      "text/plain": [
       "3.07"
      ]
     },
     "execution_count": 122,
     "metadata": {},
     "output_type": "execute_result"
    }
   ],
   "source": [
    "min_total_bill = df1.total_bill.min()\n",
    "min_total_bill"
   ]
  },
  {
   "cell_type": "code",
   "execution_count": 123,
   "metadata": {},
   "outputs": [
    {
     "data": {
      "text/plain": [
       "50.81"
      ]
     },
     "execution_count": 123,
     "metadata": {},
     "output_type": "execute_result"
    }
   ],
   "source": [
    "max_total_bill = df1.total_bill.max()\n",
    "max_total_bill"
   ]
  },
  {
   "cell_type": "code",
   "execution_count": 124,
   "metadata": {},
   "outputs": [],
   "source": [
    "df1['Min_Max_TB'] = (df1['total_bill'] - min_total_bill)/ (max_total_bill - min_total_bill)"
   ]
  },
  {
   "cell_type": "code",
   "execution_count": 125,
   "metadata": {},
   "outputs": [
    {
     "data": {
      "text/html": [
       "<div>\n",
       "<style scoped>\n",
       "    .dataframe tbody tr th:only-of-type {\n",
       "        vertical-align: middle;\n",
       "    }\n",
       "\n",
       "    .dataframe tbody tr th {\n",
       "        vertical-align: top;\n",
       "    }\n",
       "\n",
       "    .dataframe thead th {\n",
       "        text-align: right;\n",
       "    }\n",
       "</style>\n",
       "<table border=\"1\" class=\"dataframe\">\n",
       "  <thead>\n",
       "    <tr style=\"text-align: right;\">\n",
       "      <th></th>\n",
       "      <th>total_bill</th>\n",
       "      <th>tip</th>\n",
       "      <th>sex</th>\n",
       "      <th>smoker</th>\n",
       "      <th>day</th>\n",
       "      <th>time</th>\n",
       "      <th>size</th>\n",
       "      <th>Z_Score_Total_Bill</th>\n",
       "      <th>Min_Max_TB</th>\n",
       "    </tr>\n",
       "  </thead>\n",
       "  <tbody>\n",
       "    <tr>\n",
       "      <th>0</th>\n",
       "      <td>16.99</td>\n",
       "      <td>1.01</td>\n",
       "      <td>Female</td>\n",
       "      <td>No</td>\n",
       "      <td>Sun</td>\n",
       "      <td>Dinner</td>\n",
       "      <td>2</td>\n",
       "      <td>-0.314066</td>\n",
       "      <td>0.291579</td>\n",
       "    </tr>\n",
       "    <tr>\n",
       "      <th>1</th>\n",
       "      <td>10.34</td>\n",
       "      <td>1.66</td>\n",
       "      <td>Male</td>\n",
       "      <td>No</td>\n",
       "      <td>Sun</td>\n",
       "      <td>Dinner</td>\n",
       "      <td>3</td>\n",
       "      <td>-1.061054</td>\n",
       "      <td>0.152283</td>\n",
       "    </tr>\n",
       "    <tr>\n",
       "      <th>2</th>\n",
       "      <td>21.01</td>\n",
       "      <td>3.50</td>\n",
       "      <td>Male</td>\n",
       "      <td>No</td>\n",
       "      <td>Sun</td>\n",
       "      <td>Dinner</td>\n",
       "      <td>3</td>\n",
       "      <td>0.137497</td>\n",
       "      <td>0.375786</td>\n",
       "    </tr>\n",
       "    <tr>\n",
       "      <th>3</th>\n",
       "      <td>23.68</td>\n",
       "      <td>3.31</td>\n",
       "      <td>Male</td>\n",
       "      <td>No</td>\n",
       "      <td>Sun</td>\n",
       "      <td>Dinner</td>\n",
       "      <td>2</td>\n",
       "      <td>0.437416</td>\n",
       "      <td>0.431713</td>\n",
       "    </tr>\n",
       "    <tr>\n",
       "      <th>4</th>\n",
       "      <td>24.59</td>\n",
       "      <td>3.61</td>\n",
       "      <td>Female</td>\n",
       "      <td>No</td>\n",
       "      <td>Sun</td>\n",
       "      <td>Dinner</td>\n",
       "      <td>4</td>\n",
       "      <td>0.539635</td>\n",
       "      <td>0.450775</td>\n",
       "    </tr>\n",
       "  </tbody>\n",
       "</table>\n",
       "</div>"
      ],
      "text/plain": [
       "   total_bill   tip     sex smoker  day    time  size  Z_Score_Total_Bill  \\\n",
       "0       16.99  1.01  Female     No  Sun  Dinner     2           -0.314066   \n",
       "1       10.34  1.66    Male     No  Sun  Dinner     3           -1.061054   \n",
       "2       21.01  3.50    Male     No  Sun  Dinner     3            0.137497   \n",
       "3       23.68  3.31    Male     No  Sun  Dinner     2            0.437416   \n",
       "4       24.59  3.61  Female     No  Sun  Dinner     4            0.539635   \n",
       "\n",
       "   Min_Max_TB  \n",
       "0    0.291579  \n",
       "1    0.152283  \n",
       "2    0.375786  \n",
       "3    0.431713  \n",
       "4    0.450775  "
      ]
     },
     "execution_count": 125,
     "metadata": {},
     "output_type": "execute_result"
    }
   ],
   "source": [
    "df1.head()"
   ]
  },
  {
   "cell_type": "code",
   "execution_count": 126,
   "metadata": {},
   "outputs": [
    {
     "name": "stdout",
     "output_type": "stream",
     "text": [
      "The skewness for the original data is 1.1332130376158205.\n",
      "The skewness for the Zscore Scaled column is 1.1332130376158207.\n",
      "The skewness for the Min Max Scaled Data is 1.1332130376158203.\n",
      "\n",
      "The kurtosis for the original data is 1.2184840156638854.\n",
      "The kurtosis for the Zscore Scaled columns is 1.2184840156638828.\n",
      "The kurtosis for the Min Max Scaled Data is 1.2184840156638836.\n"
     ]
    }
   ],
   "source": [
    "print(\"The skewness for the original data is {}.\".format(df1.total_bill.skew()))\n",
    "print(\"The skewness for the Zscore Scaled column is {}.\".format(df1.Z_Score_Total_Bill.skew()))\n",
    "print(\"The skewness for the Min Max Scaled Data is {}.\".format(df1.Min_Max_TB.skew()))\n",
    "\n",
    "\n",
    "print('')\n",
    "\n",
    "print(\"The kurtosis for the original data is {}.\".format(df1.total_bill.kurt()))\n",
    "print(\"The kurtosis for the Zscore Scaled columns is {}.\".format(df1.Z_Score_Total_Bill.kurt()))\n",
    "print(\"The kurtosis for the Min Max Scaled Data is {}.\".format(df1.Min_Max_TB.kurt()))"
   ]
  },
  {
   "cell_type": "code",
   "execution_count": 127,
   "metadata": {},
   "outputs": [
    {
     "data": {
      "image/png": "[encoded data removed]",
      "text/plain": [
       "<Figure size 1080x360 with 3 Axes>"
      ]
     },
     "metadata": {
      "needs_background": "light"
     },
     "output_type": "display_data"
    }
   ],
   "source": [
    "# Distribution of the columns\n",
    "\n",
    "fig, axes = plt.subplots(1,3, figsize=(15,5))\n",
    "\n",
    "sns.distplot(df1['total_bill'], ax=axes[0])\n",
    "sns.distplot(df1['Z_Score_Total_Bill'], ax=axes[1])\n",
    "sns.distplot(df1['Min_Max_TB'], ax=axes[2])\n",
    "\n",
    "plt.tight_layout()\n",
    "plt.show()"
   ]
  },
  {
   "cell_type": "markdown",
   "metadata": {},
   "source": [
    "#### By Sklearn:\n",
    "\n",
    "Documentation for Min Max Scaler: https://scikit-learn.org/stable/modules/generated/sklearn.preprocessing.MinMaxScaler.html"
   ]
  },
  {
   "cell_type": "code",
   "execution_count": 128,
   "metadata": {},
   "outputs": [],
   "source": [
    "from sklearn.preprocessing import MinMaxScaler"
   ]
  },
  {
   "cell_type": "code",
   "execution_count": 130,
   "metadata": {},
   "outputs": [
    {
     "data": {
      "text/plain": [
       "array([[0.29157939, 0.00111111, 0.2       ],\n",
       "       [0.1522832 , 0.07333333, 0.4       ],\n",
       "       [0.3757855 , 0.27777778, 0.4       ],\n",
       "       [0.43171345, 0.25666667, 0.2       ],\n",
       "       [0.45077503, 0.29      , 0.6       ],\n",
       "       [0.46543779, 0.41222222, 0.6       ],\n",
       "       [0.11939673, 0.11111111, 0.2       ],\n",
       "       [0.49874319, 0.23555556, 0.6       ],\n",
       "       [0.25073314, 0.10666667, 0.2       ],\n",
       "       [0.24528697, 0.24777778, 0.2       ],\n",
       "       [0.15081693, 0.07888889, 0.2       ],\n",
       "       [0.67427734, 0.44444444, 0.6       ],\n",
       "       [0.25869292, 0.06333333, 0.2       ],\n",
       "       [0.32174277, 0.22222222, 0.6       ],\n",
       "       [0.24633431, 0.22444444, 0.2       ],\n",
       "       [0.38772518, 0.32444444, 0.2       ],\n",
       "       [0.15207373, 0.07444444, 0.4       ],\n",
       "       [0.27691663, 0.30111111, 0.4       ],\n",
       "       [0.29116045, 0.27777778, 0.4       ],\n",
       "       [0.36824466, 0.26111111, 0.4       ],\n",
       "       [0.31105991, 0.34222222, 0.2       ],\n",
       "       [0.36070381, 0.19444444, 0.2       ],\n",
       "       [0.2660243 , 0.13666667, 0.2       ],\n",
       "       [0.761416  , 0.73111111, 0.6       ],\n",
       "       [0.35085882, 0.24222222, 0.2       ],\n",
       "       [0.30875576, 0.14888889, 0.6       ],\n",
       "       [0.21575199, 0.11111111, 0.2       ],\n",
       "       [0.20150817, 0.11111111, 0.2       ],\n",
       "       [0.39023879, 0.36666667, 0.2       ],\n",
       "       [0.34729786, 0.22222222, 0.2       ],\n",
       "       [0.13573523, 0.05      , 0.2       ],\n",
       "       [0.32006703, 0.16666667, 0.6       ],\n",
       "       [0.25115207, 0.22222222, 0.2       ],\n",
       "       [0.36908253, 0.16111111, 0.6       ],\n",
       "       [0.30812736, 0.25222222, 0.2       ],\n",
       "       [0.43967323, 0.28888889, 0.4       ],\n",
       "       [0.27733557, 0.11111111, 0.4       ],\n",
       "       [0.29032258, 0.23      , 0.4       ],\n",
       "       [0.32718894, 0.14555556, 0.4       ],\n",
       "       [0.59069962, 0.44444444, 0.4       ],\n",
       "       [0.27167993, 0.13777778, 0.4       ],\n",
       "       [0.30142438, 0.17111111, 0.2       ],\n",
       "       [0.22769166, 0.22888889, 0.2       ],\n",
       "       [0.13845832, 0.03555556, 0.2       ],\n",
       "       [0.57247591, 0.51111111, 0.6       ],\n",
       "       [0.31881022, 0.22222222, 0.2       ],\n",
       "       [0.40134059, 0.44444444, 0.2       ],\n",
       "       [0.6143695 , 0.55555556, 0.6       ],\n",
       "       [0.53372434, 0.11666667, 0.4       ],\n",
       "       [0.31357352, 0.22222222, 0.2       ],\n",
       "       [0.19836615, 0.16666667, 0.2       ],\n",
       "       [0.15123586, 0.17777778, 0.2       ],\n",
       "       [0.66485128, 0.46666667, 0.6       ],\n",
       "       [0.14390448, 0.06222222, 0.2       ],\n",
       "       [0.47109342, 0.37111111, 0.6       ],\n",
       "       [0.34394638, 0.27888889, 0.2       ],\n",
       "       [0.73188102, 0.22222222, 0.6       ],\n",
       "       [0.4888982 , 0.05555556, 0.2       ],\n",
       "       [0.17113532, 0.08444444, 0.2       ],\n",
       "       [0.94679514, 0.63666667, 0.6       ],\n",
       "       [0.36070381, 0.24555556, 0.2       ],\n",
       "       [0.22496858, 0.11111111, 0.2       ],\n",
       "       [0.16652702, 0.10888889, 0.2       ],\n",
       "       [0.31881022, 0.30666667, 0.6       ],\n",
       "       [0.30414747, 0.18222222, 0.4       ],\n",
       "       [0.35630499, 0.23888889, 0.4       ],\n",
       "       [0.28026812, 0.16333333, 0.2       ],\n",
       "       [0.        , 0.        , 0.        ],\n",
       "       [0.359447  , 0.11222222, 0.2       ],\n",
       "       [0.25010473, 0.12111111, 0.2       ],\n",
       "       [0.18747382, 0.10777778, 0.2       ],\n",
       "       [0.29325513, 0.22222222, 0.4       ],\n",
       "       [0.49832426, 0.23777778, 0.2       ],\n",
       "       [0.46522832, 0.44444444, 0.2       ],\n",
       "       [0.24423963, 0.13333333, 0.2       ],\n",
       "       [0.15584416, 0.02777778, 0.2       ],\n",
       "       [0.31105991, 0.23111111, 0.2       ],\n",
       "       [0.50544617, 0.33333333, 0.6       ],\n",
       "       [0.4124424 , 0.22222222, 0.2       ],\n",
       "       [0.29786343, 0.19      , 0.2       ],\n",
       "       [0.34289904, 0.22222222, 0.2       ],\n",
       "       [0.28466695, 0.26666667, 0.2       ],\n",
       "       [0.14662757, 0.09222222, 0.        ],\n",
       "       [0.6202346 , 0.44444444, 0.2       ],\n",
       "       [0.27042313, 0.11444444, 0.2       ],\n",
       "       [0.66527021, 0.46333333, 0.6       ],\n",
       "       [0.20863008, 0.11111111, 0.2       ],\n",
       "       [0.31860075, 0.33333333, 0.2       ],\n",
       "       [0.45328865, 0.53888889, 0.2       ],\n",
       "       [0.37892752, 0.22222222, 0.2       ],\n",
       "       [0.54252199, 0.22222222, 0.2       ],\n",
       "       [0.40678676, 0.27777778, 0.2       ],\n",
       "       [0.05613741, 0.        , 0.2       ],\n",
       "       [0.27754504, 0.36666667, 0.2       ],\n",
       "       [0.41223293, 0.25      , 0.2       ],\n",
       "       [0.7771261 , 0.41444444, 0.6       ],\n",
       "       [0.50712191, 0.33333333, 0.2       ],\n",
       "       [0.18768328, 0.05555556, 0.2       ],\n",
       "       [0.3757855 , 0.22222222, 0.2       ],\n",
       "       [0.19669041, 0.05555556, 0.2       ],\n",
       "       [0.17343946, 0.16666667, 0.2       ],\n",
       "       [0.25785505, 0.22222222, 0.2       ],\n",
       "       [0.86363636, 0.16666667, 0.4       ],\n",
       "       [0.40532049, 0.27555556, 0.2       ],\n",
       "       [0.37390029, 0.34222222, 0.2       ],\n",
       "       [0.25743611, 0.07111111, 0.2       ],\n",
       "       [0.36489317, 0.34      , 0.2       ],\n",
       "       [0.46376204, 0.36555556, 0.2       ],\n",
       "       [0.31776288, 0.30666667, 0.2       ],\n",
       "       [0.23544198, 0.33333333, 0.2       ],\n",
       "       [0.22894847, 0.22222222, 0.2       ],\n",
       "       [0.0875576 , 0.        , 0.        ],\n",
       "       [0.73313783, 0.33333333, 0.4       ],\n",
       "       [0.43736908, 0.17222222, 0.2       ],\n",
       "       [0.47423544, 0.33333333, 0.4       ],\n",
       "       [0.29828236, 0.27777778, 0.2       ],\n",
       "       [0.56263092, 0.45222222, 0.6       ],\n",
       "       [0.15877671, 0.05555556, 0.2       ],\n",
       "       [0.196062  , 0.08888889, 0.2       ],\n",
       "       [0.44009217, 0.21333333, 0.6       ],\n",
       "       [0.18056137, 0.14555556, 0.2       ],\n",
       "       [0.21679933, 0.07555556, 0.2       ],\n",
       "       [0.23439464, 0.16666667, 0.2       ],\n",
       "       [0.26979472, 0.11111111, 0.2       ],\n",
       "       [0.19710934, 0.16888889, 0.2       ],\n",
       "       [0.55990783, 0.35555556, 1.        ],\n",
       "       [0.11416003, 0.05333333, 0.2       ],\n",
       "       [0.2398408 , 0.11111111, 0.2       ],\n",
       "       [0.17406787, 0.11111111, 0.2       ],\n",
       "       [0.4136992 , 0.13111111, 0.4       ],\n",
       "       [0.33535819, 0.05555556, 0.2       ],\n",
       "       [0.36028488, 0.20333333, 0.2       ],\n",
       "       [0.16966904, 0.05555556, 0.2       ],\n",
       "       [0.19250105, 0.11111111, 0.2       ],\n",
       "       [0.31818182, 0.25      , 0.2       ],\n",
       "       [0.11395057, 0.02777778, 0.2       ],\n",
       "       [0.15207373, 0.11111111, 0.2       ],\n",
       "       [0.23209049, 0.11111111, 0.2       ],\n",
       "       [0.27084206, 0.11111111, 0.2       ],\n",
       "       [0.21135316, 0.19444444, 0.2       ],\n",
       "       [0.30163385, 0.27777778, 0.2       ],\n",
       "       [0.65416841, 0.63333333, 1.        ],\n",
       "       [0.79849183, 0.44444444, 0.8       ],\n",
       "       [0.50230415, 0.44444444, 1.        ],\n",
       "       [0.27984918, 0.14444444, 0.2       ],\n",
       "       [0.11059908, 0.05555556, 0.2       ],\n",
       "       [0.3261416 , 0.04      , 0.4       ],\n",
       "       [0.1843318 , 0.07      , 0.2       ],\n",
       "       [0.140553  , 0.08111111, 0.2       ],\n",
       "       [0.09300377, 0.11111111, 0.2       ],\n",
       "       [0.23041475, 0.16666667, 0.2       ],\n",
       "       [0.21072476, 0.11111111, 0.2       ],\n",
       "       [0.29723502, 0.19333333, 0.4       ],\n",
       "       [0.44993716, 0.11111111, 0.6       ],\n",
       "       [0.34981148, 0.11111111, 0.6       ],\n",
       "       [0.56095517, 0.46      , 0.8       ],\n",
       "       [0.94470046, 0.44444444, 1.        ],\n",
       "       [0.45936322, 0.30555556, 0.6       ],\n",
       "       [0.21617093, 0.17888889, 0.2       ],\n",
       "       [0.28110599, 0.11111111, 0.6       ],\n",
       "       [0.38604943, 0.27777778, 0.6       ],\n",
       "       [0.20087977, 0.16666667, 0.2       ],\n",
       "       [0.27524089, 0.11111111, 0.4       ],\n",
       "       [0.22496858, 0.11111111, 0.2       ],\n",
       "       [0.30247172, 0.22222222, 0.2       ],\n",
       "       [0.44930876, 0.27555556, 0.4       ],\n",
       "       [0.37054881, 0.13777778, 0.2       ],\n",
       "       [0.59991621, 0.38888889, 0.6       ],\n",
       "       [0.1575199 , 0.06777778, 0.2       ],\n",
       "       [0.15835777, 0.11111111, 0.2       ],\n",
       "       [1.        , 1.        , 0.4       ],\n",
       "       [0.26686217, 0.24      , 0.2       ],\n",
       "       [0.0875576 , 0.46111111, 0.2       ],\n",
       "       [0.60284876, 0.24222222, 0.2       ],\n",
       "       [0.28801843, 0.33333333, 0.2       ],\n",
       "       [0.6248429 , 0.23444444, 0.2       ],\n",
       "       [0.3104315 , 0.11111111, 0.2       ],\n",
       "       [0.23900293, 0.11111111, 0.2       ],\n",
       "       [0.13678257, 0.33333333, 0.2       ],\n",
       "       [0.66108085, 0.28333333, 0.2       ],\n",
       "       [0.66149979, 0.29777778, 0.6       ],\n",
       "       [0.42438207, 0.51666667, 0.2       ],\n",
       "       [0.8856305 , 0.27777778, 0.4       ],\n",
       "       [0.42103058, 0.61111111, 0.6       ],\n",
       "       [0.78508588, 0.22222222, 0.2       ],\n",
       "       [0.36908253, 0.44444444, 0.8       ],\n",
       "       [0.37348136, 0.27777778, 0.4       ],\n",
       "       [0.57373272, 0.11111111, 0.8       ],\n",
       "       [0.31587767, 0.27777778, 0.4       ],\n",
       "       [0.41956431, 0.33333333, 0.4       ],\n",
       "       [0.26434855, 0.05555556, 0.2       ],\n",
       "       [0.35064935, 0.35444444, 0.2       ],\n",
       "       [0.53142019, 0.17333333, 0.2       ],\n",
       "       [0.25994973, 0.11333333, 0.2       ],\n",
       "       [0.2829912 , 0.33333333, 0.2       ],\n",
       "       [0.09405111, 0.04888889, 0.2       ],\n",
       "       [0.1522832 , 0.11111111, 0.2       ],\n",
       "       [0.83870968, 0.44444444, 0.6       ],\n",
       "       [0.20800168, 0.11111111, 0.2       ],\n",
       "       [0.21868454, 0.11111111, 0.2       ],\n",
       "       [0.32760788, 0.33333333, 0.4       ],\n",
       "       [0.20255551, 0.11222222, 0.2       ],\n",
       "       [0.20800168, 0.11111111, 0.2       ],\n",
       "       [0.27922078, 0.16666667, 0.2       ],\n",
       "       [0.36573104, 0.33333333, 0.6       ],\n",
       "       [0.28068705, 0.24777778, 0.4       ],\n",
       "       [0.49266862, 0.26777778, 0.4       ],\n",
       "       [0.74696271, 0.22222222, 0.6       ],\n",
       "       [0.44407206, 0.11444444, 0.2       ],\n",
       "       [0.20297444, 0.13666667, 0.2       ],\n",
       "       [0.565354  , 0.11111111, 0.4       ],\n",
       "       [0.47800587, 0.46222222, 0.6       ],\n",
       "       [0.94805195, 0.88888889, 0.6       ],\n",
       "       [0.21365731, 0.16666667, 0.2       ],\n",
       "       [0.52576456, 0.61111111, 0.4       ],\n",
       "       [0.205907  , 0.01111111, 0.2       ],\n",
       "       [0.52534562, 0.22222222, 0.8       ],\n",
       "       [0.17846669, 0.05555556, 0.2       ],\n",
       "       [0.09782153, 0.04888889, 0.2       ],\n",
       "       [0.56702974, 0.23222222, 0.6       ],\n",
       "       [0.19040637, 0.13333333, 0.2       ],\n",
       "       [0.21679933, 0.27555556, 0.2       ],\n",
       "       [0.11541684, 0.10222222, 0.        ],\n",
       "       [0.27042313, 0.22222222, 0.4       ],\n",
       "       [0.21679933, 0.06444444, 0.2       ],\n",
       "       [0.2764977 , 0.16666667, 0.2       ],\n",
       "       [0.1470465 , 0.11111111, 0.2       ],\n",
       "       [0.3640553 , 0.22222222, 0.6       ],\n",
       "       [0.21386678, 0.19111111, 0.2       ],\n",
       "       [0.39903645, 0.20888889, 0.2       ],\n",
       "       [0.43862589, 0.11111111, 0.6       ],\n",
       "       [0.26434855, 0.22222222, 0.4       ],\n",
       "       [0.17888563, 0.26555556, 0.2       ],\n",
       "       [0.16129032, 0.05222222, 0.2       ],\n",
       "       [0.26099707, 0.22222222, 0.2       ],\n",
       "       [0.14662757, 0.02777778, 0.2       ],\n",
       "       [0.19962296, 0.        , 0.2       ],\n",
       "       [0.62337662, 0.01888889, 0.2       ],\n",
       "       [0.68621701, 0.40777778, 0.4       ],\n",
       "       [0.5437788 , 0.54666667, 0.4       ],\n",
       "       [0.50502723, 0.11111111, 0.2       ],\n",
       "       [0.41055718, 0.11111111, 0.2       ],\n",
       "       [0.30896523, 0.08333333, 0.2       ],\n",
       "       [0.32907415, 0.22222222, 0.2       ]])"
      ]
     },
     "execution_count": 130,
     "metadata": {},
     "output_type": "execute_result"
    }
   ],
   "source": [
    "MS = MinMaxScaler()\n",
    "\n",
    "MinMaxScaled = MS.fit_transform(tips_num)\n",
    "MinMaxScaled"
   ]
  },
  {
   "cell_type": "markdown",
   "metadata": {},
   "source": [
    "### Few things to keep in mind:\n",
    "\n",
    "1) After cleaning of outliers, when plotting Boxplot again on new data, that data also could have outliers as well cause for the new data we would have new Q1, Q2, Q3 then new box plot with new outliers.\n",
    "\n",
    "\n",
    "2) After applying transformation, skewness is decreasing or not then also could have outliers removed as values comes closer or also it can't have outliers removed post transformation.\n",
    "\n",
    "\n",
    "3) With Scaling all three - Skewness, Kurtosis and distribution remain same so there is no impact on outliers as well."
   ]
  },
  {
   "cell_type": "markdown",
   "metadata": {},
   "source": [
    "------------------"
   ]
  },
  {
   "cell_type": "markdown",
   "metadata": {},
   "source": [
    "### 7. Encoding the Categorical Features"
   ]
  },
  {
   "cell_type": "markdown",
   "metadata": {},
   "source": [
    "There are two ways to encode the categorical data into dummyvariables. Using: \n",
    "\n",
    "1) pd.get_dummies\\\n",
    "2) sklearn's in-built function of OneHotEncoder and LabelEncoder"
   ]
  },
  {
   "cell_type": "code",
   "execution_count": 138,
   "metadata": {},
   "outputs": [
    {
     "data": {
      "text/html": [
       "<div>\n",
       "<style scoped>\n",
       "    .dataframe tbody tr th:only-of-type {\n",
       "        vertical-align: middle;\n",
       "    }\n",
       "\n",
       "    .dataframe tbody tr th {\n",
       "        vertical-align: top;\n",
       "    }\n",
       "\n",
       "    .dataframe thead th {\n",
       "        text-align: right;\n",
       "    }\n",
       "</style>\n",
       "<table border=\"1\" class=\"dataframe\">\n",
       "  <thead>\n",
       "    <tr style=\"text-align: right;\">\n",
       "      <th></th>\n",
       "      <th>total_bill</th>\n",
       "      <th>tip</th>\n",
       "      <th>sex</th>\n",
       "      <th>smoker</th>\n",
       "      <th>day</th>\n",
       "      <th>time</th>\n",
       "      <th>size</th>\n",
       "    </tr>\n",
       "  </thead>\n",
       "  <tbody>\n",
       "    <tr>\n",
       "      <th>0</th>\n",
       "      <td>16.99</td>\n",
       "      <td>1.01</td>\n",
       "      <td>Female</td>\n",
       "      <td>No</td>\n",
       "      <td>Sun</td>\n",
       "      <td>Dinner</td>\n",
       "      <td>2</td>\n",
       "    </tr>\n",
       "    <tr>\n",
       "      <th>1</th>\n",
       "      <td>10.34</td>\n",
       "      <td>1.66</td>\n",
       "      <td>Male</td>\n",
       "      <td>No</td>\n",
       "      <td>Sun</td>\n",
       "      <td>Dinner</td>\n",
       "      <td>3</td>\n",
       "    </tr>\n",
       "    <tr>\n",
       "      <th>2</th>\n",
       "      <td>21.01</td>\n",
       "      <td>3.50</td>\n",
       "      <td>Male</td>\n",
       "      <td>No</td>\n",
       "      <td>Sun</td>\n",
       "      <td>Dinner</td>\n",
       "      <td>3</td>\n",
       "    </tr>\n",
       "    <tr>\n",
       "      <th>3</th>\n",
       "      <td>23.68</td>\n",
       "      <td>3.31</td>\n",
       "      <td>Male</td>\n",
       "      <td>No</td>\n",
       "      <td>Sun</td>\n",
       "      <td>Dinner</td>\n",
       "      <td>2</td>\n",
       "    </tr>\n",
       "    <tr>\n",
       "      <th>4</th>\n",
       "      <td>24.59</td>\n",
       "      <td>3.61</td>\n",
       "      <td>Female</td>\n",
       "      <td>No</td>\n",
       "      <td>Sun</td>\n",
       "      <td>Dinner</td>\n",
       "      <td>4</td>\n",
       "    </tr>\n",
       "  </tbody>\n",
       "</table>\n",
       "</div>"
      ],
      "text/plain": [
       "   total_bill   tip     sex smoker  day    time  size\n",
       "0       16.99  1.01  Female     No  Sun  Dinner     2\n",
       "1       10.34  1.66    Male     No  Sun  Dinner     3\n",
       "2       21.01  3.50    Male     No  Sun  Dinner     3\n",
       "3       23.68  3.31    Male     No  Sun  Dinner     2\n",
       "4       24.59  3.61  Female     No  Sun  Dinner     4"
      ]
     },
     "execution_count": 138,
     "metadata": {},
     "output_type": "execute_result"
    }
   ],
   "source": [
    "df_tips.head()"
   ]
  },
  {
   "cell_type": "code",
   "execution_count": 144,
   "metadata": {},
   "outputs": [],
   "source": [
    "cat_tips = df_tips.select_dtypes(exclude=[np.number])"
   ]
  },
  {
   "cell_type": "markdown",
   "metadata": {},
   "source": [
    "#### 1) pd.get_dummies approach:"
   ]
  },
  {
   "cell_type": "code",
   "execution_count": 145,
   "metadata": {},
   "outputs": [
    {
     "data": {
      "text/html": [
       "<div>\n",
       "<style scoped>\n",
       "    .dataframe tbody tr th:only-of-type {\n",
       "        vertical-align: middle;\n",
       "    }\n",
       "\n",
       "    .dataframe tbody tr th {\n",
       "        vertical-align: top;\n",
       "    }\n",
       "\n",
       "    .dataframe thead th {\n",
       "        text-align: right;\n",
       "    }\n",
       "</style>\n",
       "<table border=\"1\" class=\"dataframe\">\n",
       "  <thead>\n",
       "    <tr style=\"text-align: right;\">\n",
       "      <th></th>\n",
       "      <th>sex_Female</th>\n",
       "      <th>smoker_No</th>\n",
       "      <th>day_Fri</th>\n",
       "      <th>day_Sat</th>\n",
       "      <th>day_Sun</th>\n",
       "      <th>time_Dinner</th>\n",
       "    </tr>\n",
       "  </thead>\n",
       "  <tbody>\n",
       "    <tr>\n",
       "      <th>0</th>\n",
       "      <td>1</td>\n",
       "      <td>1</td>\n",
       "      <td>0</td>\n",
       "      <td>0</td>\n",
       "      <td>1</td>\n",
       "      <td>1</td>\n",
       "    </tr>\n",
       "    <tr>\n",
       "      <th>1</th>\n",
       "      <td>0</td>\n",
       "      <td>1</td>\n",
       "      <td>0</td>\n",
       "      <td>0</td>\n",
       "      <td>1</td>\n",
       "      <td>1</td>\n",
       "    </tr>\n",
       "    <tr>\n",
       "      <th>2</th>\n",
       "      <td>0</td>\n",
       "      <td>1</td>\n",
       "      <td>0</td>\n",
       "      <td>0</td>\n",
       "      <td>1</td>\n",
       "      <td>1</td>\n",
       "    </tr>\n",
       "    <tr>\n",
       "      <th>3</th>\n",
       "      <td>0</td>\n",
       "      <td>1</td>\n",
       "      <td>0</td>\n",
       "      <td>0</td>\n",
       "      <td>1</td>\n",
       "      <td>1</td>\n",
       "    </tr>\n",
       "    <tr>\n",
       "      <th>4</th>\n",
       "      <td>1</td>\n",
       "      <td>1</td>\n",
       "      <td>0</td>\n",
       "      <td>0</td>\n",
       "      <td>1</td>\n",
       "      <td>1</td>\n",
       "    </tr>\n",
       "    <tr>\n",
       "      <th>...</th>\n",
       "      <td>...</td>\n",
       "      <td>...</td>\n",
       "      <td>...</td>\n",
       "      <td>...</td>\n",
       "      <td>...</td>\n",
       "      <td>...</td>\n",
       "    </tr>\n",
       "    <tr>\n",
       "      <th>239</th>\n",
       "      <td>0</td>\n",
       "      <td>1</td>\n",
       "      <td>0</td>\n",
       "      <td>1</td>\n",
       "      <td>0</td>\n",
       "      <td>1</td>\n",
       "    </tr>\n",
       "    <tr>\n",
       "      <th>240</th>\n",
       "      <td>1</td>\n",
       "      <td>0</td>\n",
       "      <td>0</td>\n",
       "      <td>1</td>\n",
       "      <td>0</td>\n",
       "      <td>1</td>\n",
       "    </tr>\n",
       "    <tr>\n",
       "      <th>241</th>\n",
       "      <td>0</td>\n",
       "      <td>0</td>\n",
       "      <td>0</td>\n",
       "      <td>1</td>\n",
       "      <td>0</td>\n",
       "      <td>1</td>\n",
       "    </tr>\n",
       "    <tr>\n",
       "      <th>242</th>\n",
       "      <td>0</td>\n",
       "      <td>1</td>\n",
       "      <td>0</td>\n",
       "      <td>1</td>\n",
       "      <td>0</td>\n",
       "      <td>1</td>\n",
       "    </tr>\n",
       "    <tr>\n",
       "      <th>243</th>\n",
       "      <td>1</td>\n",
       "      <td>1</td>\n",
       "      <td>0</td>\n",
       "      <td>0</td>\n",
       "      <td>0</td>\n",
       "      <td>1</td>\n",
       "    </tr>\n",
       "  </tbody>\n",
       "</table>\n",
       "<p>244 rows × 6 columns</p>\n",
       "</div>"
      ],
      "text/plain": [
       "     sex_Female  smoker_No  day_Fri  day_Sat  day_Sun  time_Dinner\n",
       "0             1          1        0        0        1            1\n",
       "1             0          1        0        0        1            1\n",
       "2             0          1        0        0        1            1\n",
       "3             0          1        0        0        1            1\n",
       "4             1          1        0        0        1            1\n",
       "..          ...        ...      ...      ...      ...          ...\n",
       "239           0          1        0        1        0            1\n",
       "240           1          0        0        1        0            1\n",
       "241           0          0        0        1        0            1\n",
       "242           0          1        0        1        0            1\n",
       "243           1          1        0        0        0            1\n",
       "\n",
       "[244 rows x 6 columns]"
      ]
     },
     "execution_count": 145,
     "metadata": {},
     "output_type": "execute_result"
    }
   ],
   "source": [
    "dummy_cat = pd.get_dummies(cat_tips, drop_first = True)\n",
    "dummy_cat\n",
    "\n",
    "# drop_first = True drops the first column for each feature"
   ]
  },
  {
   "cell_type": "markdown",
   "metadata": {},
   "source": [
    "### 2. OneHot Encoding\n",
    "\n",
    "Documentation for this: https://scikit-learn.org/stable/modules/generated/sklearn.preprocessing.OneHotEncoder.html"
   ]
  },
  {
   "cell_type": "code",
   "execution_count": 149,
   "metadata": {},
   "outputs": [],
   "source": [
    "from sklearn.preprocessing import OneHotEncoder"
   ]
  },
  {
   "cell_type": "code",
   "execution_count": 152,
   "metadata": {},
   "outputs": [
    {
     "data": {
      "text/plain": [
       "[array(['Female', 'Male'], dtype=object),\n",
       " array(['No', 'Yes'], dtype=object),\n",
       " array(['Fri', 'Sat', 'Sun', 'Thur'], dtype=object),\n",
       " array(['Dinner', 'Lunch'], dtype=object)]"
      ]
     },
     "execution_count": 152,
     "metadata": {},
     "output_type": "execute_result"
    }
   ],
   "source": [
    "OE_tips = OneHotEncoder(drop ='first').fit(cat_tips)\n",
    "OE_tips.categories_"
   ]
  },
  {
   "cell_type": "code",
   "execution_count": 154,
   "metadata": {},
   "outputs": [
    {
     "data": {
      "text/plain": [
       "array([[0., 0., 1., 0., 0., 1.],\n",
       "       [1., 1., 0., 0., 1., 0.]])"
      ]
     },
     "execution_count": 154,
     "metadata": {},
     "output_type": "execute_result"
    }
   ],
   "source": [
    "# transform any new values to Dummy variables via OneHot Encoder\n",
    "OE_tips.transform([['Female','No', 'Sat', 'Lunch'], ['Male','Yes', 'Thur', 'Dinner']]).toarray()"
   ]
  },
  {
   "cell_type": "code",
   "execution_count": 155,
   "metadata": {},
   "outputs": [
    {
     "data": {
      "text/plain": [
       "array([['Female', 'No', 'Sat', 'Lunch'],\n",
       "       ['Male', 'Yes', 'Thur', 'Dinner']], dtype=object)"
      ]
     },
     "execution_count": 155,
     "metadata": {},
     "output_type": "execute_result"
    }
   ],
   "source": [
    "# Inverse transform to get original values from the dummy variables:\n",
    "OE_tips.inverse_transform([[0., 0., 1., 0., 0., 1.],\n",
    "       [1., 1., 0., 0., 1., 0.]])"
   ]
  },
  {
   "cell_type": "code",
   "execution_count": 157,
   "metadata": {},
   "outputs": [
    {
     "data": {
      "text/plain": [
       "array(['sex_Male', 'smoker_Yes', 'day_Sat', 'day_Sun', 'day_Thur',\n",
       "       'time_Lunch'], dtype=object)"
      ]
     },
     "execution_count": 157,
     "metadata": {},
     "output_type": "execute_result"
    }
   ],
   "source": [
    "OE_tips.get_feature_names(['sex', 'smoker','day','time'])"
   ]
  },
  {
   "cell_type": "markdown",
   "metadata": {},
   "source": [
    "### 3. Label Encoding\n",
    "\n",
    "Documentation for this: https://scikit-learn.org/stable/modules/generated/sklearn.preprocessing.LabelEncoder.html"
   ]
  },
  {
   "cell_type": "code",
   "execution_count": 158,
   "metadata": {},
   "outputs": [],
   "source": [
    "from sklearn.preprocessing import LabelEncoder"
   ]
  },
  {
   "cell_type": "code",
   "execution_count": 160,
   "metadata": {},
   "outputs": [],
   "source": [
    "LE = LabelEncoder()\n",
    "\n",
    "LE_tips = LE.fit(cat_tips['day'])"
   ]
  },
  {
   "cell_type": "code",
   "execution_count": 161,
   "metadata": {},
   "outputs": [
    {
     "data": {
      "text/plain": [
       "array(['Fri', 'Sat', 'Sun', 'Thur'], dtype=object)"
      ]
     },
     "execution_count": 161,
     "metadata": {},
     "output_type": "execute_result"
    }
   ],
   "source": [
    "LE_tips.classes_"
   ]
  },
  {
   "cell_type": "code",
   "execution_count": 163,
   "metadata": {},
   "outputs": [
    {
     "data": {
      "text/plain": [
       "array([1, 3, 0, 2], dtype=int64)"
      ]
     },
     "execution_count": 163,
     "metadata": {},
     "output_type": "execute_result"
    }
   ],
   "source": [
    "# transform any new values to Dummy variables via Label Encoder\n",
    "LE_tips.transform(['Sat','Thur','Fri','Sun'])"
   ]
  },
  {
   "cell_type": "code",
   "execution_count": 164,
   "metadata": {},
   "outputs": [
    {
     "data": {
      "text/plain": [
       "array(['Sat', 'Sun', 'Thur', 'Fri'], dtype=object)"
      ]
     },
     "execution_count": 164,
     "metadata": {},
     "output_type": "execute_result"
    }
   ],
   "source": [
    "# Inverse transform to get original values from the dummy variables:\n",
    "LE_tips.inverse_transform([1,2,3,0])"
   ]
  },
  {
   "cell_type": "markdown",
   "metadata": {},
   "source": [
    "----------------"
   ]
  },
  {
   "cell_type": "markdown",
   "metadata": {},
   "source": [
    "### 8. Training and Testing data\n",
    "\n",
    "Documentation for this: https://scikit-learn.org/stable/modules/generated/sklearn.model_selection.train_test_split.html"
   ]
  },
  {
   "cell_type": "code",
   "execution_count": 166,
   "metadata": {},
   "outputs": [],
   "source": [
    "from sklearn.model_selection import train_test_split"
   ]
  },
  {
   "cell_type": "code",
   "execution_count": 226,
   "metadata": {},
   "outputs": [
    {
     "data": {
      "text/html": [
       "<div>\n",
       "<style scoped>\n",
       "    .dataframe tbody tr th:only-of-type {\n",
       "        vertical-align: middle;\n",
       "    }\n",
       "\n",
       "    .dataframe tbody tr th {\n",
       "        vertical-align: top;\n",
       "    }\n",
       "\n",
       "    .dataframe thead th {\n",
       "        text-align: right;\n",
       "    }\n",
       "</style>\n",
       "<table border=\"1\" class=\"dataframe\">\n",
       "  <thead>\n",
       "    <tr style=\"text-align: right;\">\n",
       "      <th></th>\n",
       "      <th>SepalLengthCm</th>\n",
       "      <th>SepalWidthCm</th>\n",
       "      <th>PetalLengthCm</th>\n",
       "      <th>PetalWidthCm</th>\n",
       "      <th>Species</th>\n",
       "    </tr>\n",
       "    <tr>\n",
       "      <th>Id</th>\n",
       "      <th></th>\n",
       "      <th></th>\n",
       "      <th></th>\n",
       "      <th></th>\n",
       "      <th></th>\n",
       "    </tr>\n",
       "  </thead>\n",
       "  <tbody>\n",
       "    <tr>\n",
       "      <th>1</th>\n",
       "      <td>5.1</td>\n",
       "      <td>3.5</td>\n",
       "      <td>1.4</td>\n",
       "      <td>0.2</td>\n",
       "      <td>Iris-setosa</td>\n",
       "    </tr>\n",
       "    <tr>\n",
       "      <th>2</th>\n",
       "      <td>4.9</td>\n",
       "      <td>3.0</td>\n",
       "      <td>1.4</td>\n",
       "      <td>0.2</td>\n",
       "      <td>Iris-setosa</td>\n",
       "    </tr>\n",
       "    <tr>\n",
       "      <th>3</th>\n",
       "      <td>4.7</td>\n",
       "      <td>3.2</td>\n",
       "      <td>1.3</td>\n",
       "      <td>0.2</td>\n",
       "      <td>Iris-setosa</td>\n",
       "    </tr>\n",
       "    <tr>\n",
       "      <th>4</th>\n",
       "      <td>4.6</td>\n",
       "      <td>3.1</td>\n",
       "      <td>1.5</td>\n",
       "      <td>0.2</td>\n",
       "      <td>Iris-setosa</td>\n",
       "    </tr>\n",
       "    <tr>\n",
       "      <th>5</th>\n",
       "      <td>5.0</td>\n",
       "      <td>3.6</td>\n",
       "      <td>1.4</td>\n",
       "      <td>0.2</td>\n",
       "      <td>Iris-setosa</td>\n",
       "    </tr>\n",
       "  </tbody>\n",
       "</table>\n",
       "</div>"
      ],
      "text/plain": [
       "    SepalLengthCm  SepalWidthCm  PetalLengthCm  PetalWidthCm      Species\n",
       "Id                                                                       \n",
       "1             5.1           3.5            1.4           0.2  Iris-setosa\n",
       "2             4.9           3.0            1.4           0.2  Iris-setosa\n",
       "3             4.7           3.2            1.3           0.2  Iris-setosa\n",
       "4             4.6           3.1            1.5           0.2  Iris-setosa\n",
       "5             5.0           3.6            1.4           0.2  Iris-setosa"
      ]
     },
     "execution_count": 226,
     "metadata": {},
     "output_type": "execute_result"
    }
   ],
   "source": [
    "# laod iris dataset:\n",
    "\n",
    "iris = pd.read_csv('11_Iris.csv', index_col=0)\n",
    "iris.head()"
   ]
  },
  {
   "cell_type": "code",
   "execution_count": 227,
   "metadata": {},
   "outputs": [],
   "source": [
    "## Splitting for X and Y variables:\n",
    "\n",
    "Y = iris['Species']\n",
    "X = iris.drop('Species', axis=1)"
   ]
  },
  {
   "cell_type": "code",
   "execution_count": 228,
   "metadata": {},
   "outputs": [
    {
     "data": {
      "text/html": [
       "<div>\n",
       "<style scoped>\n",
       "    .dataframe tbody tr th:only-of-type {\n",
       "        vertical-align: middle;\n",
       "    }\n",
       "\n",
       "    .dataframe tbody tr th {\n",
       "        vertical-align: top;\n",
       "    }\n",
       "\n",
       "    .dataframe thead th {\n",
       "        text-align: right;\n",
       "    }\n",
       "</style>\n",
       "<table border=\"1\" class=\"dataframe\">\n",
       "  <thead>\n",
       "    <tr style=\"text-align: right;\">\n",
       "      <th></th>\n",
       "      <th>SepalLengthCm</th>\n",
       "      <th>SepalWidthCm</th>\n",
       "      <th>PetalLengthCm</th>\n",
       "      <th>PetalWidthCm</th>\n",
       "    </tr>\n",
       "    <tr>\n",
       "      <th>Id</th>\n",
       "      <th></th>\n",
       "      <th></th>\n",
       "      <th></th>\n",
       "      <th></th>\n",
       "    </tr>\n",
       "  </thead>\n",
       "  <tbody>\n",
       "    <tr>\n",
       "      <th>1</th>\n",
       "      <td>5.1</td>\n",
       "      <td>3.5</td>\n",
       "      <td>1.4</td>\n",
       "      <td>0.2</td>\n",
       "    </tr>\n",
       "    <tr>\n",
       "      <th>2</th>\n",
       "      <td>4.9</td>\n",
       "      <td>3.0</td>\n",
       "      <td>1.4</td>\n",
       "      <td>0.2</td>\n",
       "    </tr>\n",
       "    <tr>\n",
       "      <th>3</th>\n",
       "      <td>4.7</td>\n",
       "      <td>3.2</td>\n",
       "      <td>1.3</td>\n",
       "      <td>0.2</td>\n",
       "    </tr>\n",
       "    <tr>\n",
       "      <th>4</th>\n",
       "      <td>4.6</td>\n",
       "      <td>3.1</td>\n",
       "      <td>1.5</td>\n",
       "      <td>0.2</td>\n",
       "    </tr>\n",
       "    <tr>\n",
       "      <th>5</th>\n",
       "      <td>5.0</td>\n",
       "      <td>3.6</td>\n",
       "      <td>1.4</td>\n",
       "      <td>0.2</td>\n",
       "    </tr>\n",
       "  </tbody>\n",
       "</table>\n",
       "</div>"
      ],
      "text/plain": [
       "    SepalLengthCm  SepalWidthCm  PetalLengthCm  PetalWidthCm\n",
       "Id                                                          \n",
       "1             5.1           3.5            1.4           0.2\n",
       "2             4.9           3.0            1.4           0.2\n",
       "3             4.7           3.2            1.3           0.2\n",
       "4             4.6           3.1            1.5           0.2\n",
       "5             5.0           3.6            1.4           0.2"
      ]
     },
     "execution_count": 228,
     "metadata": {},
     "output_type": "execute_result"
    }
   ],
   "source": [
    "# Independent Variable\n",
    "\n",
    "X.head()"
   ]
  },
  {
   "cell_type": "code",
   "execution_count": 229,
   "metadata": {},
   "outputs": [
    {
     "data": {
      "text/plain": [
       "Id\n",
       "1    Iris-setosa\n",
       "2    Iris-setosa\n",
       "3    Iris-setosa\n",
       "4    Iris-setosa\n",
       "5    Iris-setosa\n",
       "Name: Species, dtype: object"
      ]
     },
     "execution_count": 229,
     "metadata": {},
     "output_type": "execute_result"
    }
   ],
   "source": [
    "# Dependent or Target Variable\n",
    "\n",
    "Y.head()"
   ]
  },
  {
   "cell_type": "code",
   "execution_count": 230,
   "metadata": {},
   "outputs": [
    {
     "name": "stdout",
     "output_type": "stream",
     "text": [
      "The shape of X_train is: (105, 4)\n",
      "The shape of X_test is: (45, 4)\n",
      "\n",
      "The shape of Y_train is: (105,)\n",
      "The shape of Y_test is: (45,)\n"
     ]
    }
   ],
   "source": [
    "## Splitting dataset into 70% Training and 30% Testing Data:\n",
    "\n",
    "X_train, X_test, Y_train, Y_test = train_test_split(X,Y,train_size=0.7, random_state =0)\n",
    "\n",
    "# random_state ---> is seed -- fixing the sample selection for Training & Testing dataset\n",
    "\n",
    "# check the dimensions of the train & test subset for \n",
    "\n",
    "print(\"The shape of X_train is:\", X_train.shape)\n",
    "print(\"The shape of X_test is:\", X_test.shape)\n",
    "\n",
    "print('')\n",
    "print(\"The shape of Y_train is:\", Y_train.shape)\n",
    "print(\"The shape of Y_test is:\", Y_test.shape)"
   ]
  },
  {
   "cell_type": "markdown",
   "metadata": {},
   "source": [
    "To statistically test if the train and test representative of the overall data, would compute the Median for the independent variables for both the test and train sets."
   ]
  },
  {
   "cell_type": "code",
   "execution_count": 231,
   "metadata": {},
   "outputs": [],
   "source": [
    "# median for x_train\n",
    "median_x_train = X_train.median()\n",
    "\n",
    "# median for x_test\n",
    "median_x_test = X_test.median()"
   ]
  },
  {
   "cell_type": "code",
   "execution_count": 232,
   "metadata": {},
   "outputs": [
    {
     "name": "stdout",
     "output_type": "stream",
     "text": [
      "The median for X Train variables is:\n"
     ]
    },
    {
     "data": {
      "text/plain": [
       "SepalLengthCm    5.8\n",
       "SepalWidthCm     3.0\n",
       "PetalLengthCm    4.4\n",
       "PetalWidthCm     1.3\n",
       "dtype: float64"
      ]
     },
     "execution_count": 232,
     "metadata": {},
     "output_type": "execute_result"
    }
   ],
   "source": [
    "print('The median for X Train variables is:')\n",
    "median_x_train"
   ]
  },
  {
   "cell_type": "code",
   "execution_count": 233,
   "metadata": {},
   "outputs": [
    {
     "name": "stdout",
     "output_type": "stream",
     "text": [
      "The median for X Test variables is:\n"
     ]
    },
    {
     "data": {
      "text/plain": [
       "SepalLengthCm    5.8\n",
       "SepalWidthCm     3.0\n",
       "PetalLengthCm    4.3\n",
       "PetalWidthCm     1.3\n",
       "dtype: float64"
      ]
     },
     "execution_count": 233,
     "metadata": {},
     "output_type": "execute_result"
    }
   ],
   "source": [
    "print('The median for X Test variables is:')\n",
    "median_x_test"
   ]
  },
  {
   "cell_type": "markdown",
   "metadata": {},
   "source": [
    "### Conclusion:\n",
    "\n",
    "Based on the above result, we can conclude statistically that the train and test representative of the overall data as the median for both x_train and x_test are similar."
   ]
  },
  {
   "cell_type": "markdown",
   "metadata": {},
   "source": [
    "-----------------"
   ]
  },
  {
   "cell_type": "markdown",
   "metadata": {},
   "source": [
    "### 9. PipeLining the entire workflow\n",
    "\n",
    "We can build a pipeline using which can impute missings values, transform and scale the data in one piece of code. These steps must ideally be done post splitting the data into train and test so as to avoid data leakages.\n",
    "\n",
    "Documemtation for this: https://scikit-learn.org/stable/modules/generated/sklearn.pipeline.Pipeline.html\n",
    "\n",
    "Refer this for more illustration on Pipeline: https://towardsdatascience.com/clean-efficient-data-pipelines-with-pythons-sklearn-2472de04c0ea"
   ]
  },
  {
   "cell_type": "code",
   "execution_count": 191,
   "metadata": {},
   "outputs": [],
   "source": [
    "### Imputation of Missing Values using Iterative Imputer:\n",
    "\n",
    "# explicitly require this experimental feature\n",
    "from sklearn.experimental import enable_iterative_imputer  \n",
    "\n",
    "# now you can import normally from sklearn.impute\n",
    "from sklearn.impute import IterativeImputer"
   ]
  },
  {
   "cell_type": "code",
   "execution_count": 238,
   "metadata": {},
   "outputs": [
    {
     "name": "stdout",
     "output_type": "stream",
     "text": [
      "Testing Accuracy is:  0.9777777777777777\n",
      "\n",
      "Training Accuracy is:  0.9619047619047619\n"
     ]
    }
   ],
   "source": [
    "# Data pre-processing, model building, feature engineering\n",
    "\n",
    "from sklearn.feature_selection import SelectKBest\n",
    "from sklearn.feature_selection import f_classif\n",
    "from sklearn.pipeline import Pipeline\n",
    "from sklearn.linear_model import LogisticRegression\n",
    "from sklearn.feature_selection import RFE\n",
    "\n",
    "pipe = Pipeline((\n",
    "(\"IT\", IterativeImputer()),\n",
    "(\"PT\",PowerTransformer()),\n",
    "(\"SC\", StandardScaler()),\n",
    "(\"SKB\",SelectKBest(f_classif,k=3)),         # selecting the best 3 key features (i.e automating the feature selection)\n",
    "(\"LR\", LogisticRegression()),               # applying Logistic Regression algorithm    \n",
    "))\n",
    "\n",
    "# fitting the data to pipeline created:\n",
    "pipe.fit(X_train, Y_train)\n",
    "\n",
    "print(\"Testing Accuracy is: \", pipe.score(X_test, Y_test))\n",
    "print('')\n",
    "print(\"Training Accuracy is: \",pipe.score(X_train, Y_train))"
   ]
  },
  {
   "cell_type": "code",
   "execution_count": 240,
   "metadata": {},
   "outputs": [],
   "source": [
    "y_pred = pipe.predict(X_test) "
   ]
  },
  {
   "cell_type": "code",
   "execution_count": 242,
   "metadata": {},
   "outputs": [],
   "source": [
    "#metrics calculation\n",
    "from sklearn.metrics import confusion_matrix, classification_report, accuracy_score,cohen_kappa_score"
   ]
  },
  {
   "cell_type": "markdown",
   "metadata": {},
   "source": [
    "### 10. Model Evaluation"
   ]
  },
  {
   "cell_type": "code",
   "execution_count": 244,
   "metadata": {},
   "outputs": [
    {
     "name": "stdout",
     "output_type": "stream",
     "text": [
      "Accuracy Score: 0.9777777777777777\n"
     ]
    }
   ],
   "source": [
    "accuracy = accuracy_score(Y_test,y_pred)\n",
    "print('Accuracy Score:',accuracy)"
   ]
  },
  {
   "cell_type": "code",
   "execution_count": 245,
   "metadata": {},
   "outputs": [
    {
     "name": "stdout",
     "output_type": "stream",
     "text": [
      "Confusion Matrix:\n",
      "[[16  0  0]\n",
      " [ 0 17  1]\n",
      " [ 0  0 11]]\n"
     ]
    }
   ],
   "source": [
    "print('Confusion Matrix:')\n",
    "print(confusion_matrix(Y_test, y_pred))"
   ]
  },
  {
   "cell_type": "code",
   "execution_count": 246,
   "metadata": {},
   "outputs": [
    {
     "name": "stdout",
     "output_type": "stream",
     "text": [
      "Classification Report:\n",
      "                 precision    recall  f1-score   support\n",
      "\n",
      "    Iris-setosa       1.00      1.00      1.00        16\n",
      "Iris-versicolor       1.00      0.94      0.97        18\n",
      " Iris-virginica       0.92      1.00      0.96        11\n",
      "\n",
      "       accuracy                           0.98        45\n",
      "      macro avg       0.97      0.98      0.98        45\n",
      "   weighted avg       0.98      0.98      0.98        45\n",
      "\n"
     ]
    }
   ],
   "source": [
    "print('Classification Report:')\n",
    "print(classification_report(Y_test, y_pred))"
   ]
  },
  {
   "cell_type": "code",
   "execution_count": 247,
   "metadata": {},
   "outputs": [
    {
     "name": "stdout",
     "output_type": "stream",
     "text": [
      "Cohen Kappa Score is: 0.966190833959429\n"
     ]
    }
   ],
   "source": [
    "print('Cohen Kappa Score is:' ,cohen_kappa_score(Y_test, y_pred))"
   ]
  },
  {
   "cell_type": "markdown",
   "metadata": {},
   "source": [
    "### Inference of Cohen Kappa Score: \n",
    "The Kappa Statistic , which is a number between -1 and 1. The maximum value means complete agreement; zero or lower means chance agreement. The above score of 0.9662 suggests that there is higher chance agreement."
   ]
  },
  {
   "cell_type": "markdown",
   "metadata": {},
   "source": [
    "### Cross Validation\n",
    "\n",
    "It’s a model validation technique for assessing how the results of a statistical analysis will generalize to an  independent data set. Mainly used in settings where the goal is prediction and one wants to estimate how  accurately a model will perform in practice. \n",
    "\n",
    "The goal of cross-validation is to define a data set to test the  model in the training phase (i.e. validation data set) in order to limit problems like over fitting, and get an  insight on how the model will generalize to an independent data set. \n",
    "Examples: leave-one-out cross validation, K-fold cross validation "
   ]
  },
  {
   "cell_type": "code",
   "execution_count": 250,
   "metadata": {},
   "outputs": [
    {
     "name": "stdout",
     "output_type": "stream",
     "text": [
      "[0.90909091 0.90909091 0.90909091 1.         1.         1.\n",
      " 1.         0.9        1.         0.9       ]\n"
     ]
    }
   ],
   "source": [
    "# Evaluating models using Cross Validation\n",
    "\n",
    "from sklearn.model_selection import cross_val_score\n",
    "scoreslr = cross_val_score(pipe, X_train, Y_train, cv=10, scoring='accuracy')\n",
    "print(scoreslr)"
   ]
  },
  {
   "cell_type": "code",
   "execution_count": 252,
   "metadata": {},
   "outputs": [
    {
     "name": "stdout",
     "output_type": "stream",
     "text": [
      "Average Accuracy of the model\n",
      "0.9527272727272728\n",
      "\n",
      "SD of accuracy of the model\n",
      "0.04994027654412768\n"
     ]
    }
   ],
   "source": [
    "print(\"Average Accuracy of the model\")\n",
    "print(np.mean(scoreslr))\n",
    "\n",
    "print('')\n",
    "\n",
    "print(\"SD of accuracy of the model\")\n",
    "print(np.std(scoreslr,ddof=1))"
   ]
  },
  {
   "cell_type": "code",
   "execution_count": 253,
   "metadata": {},
   "outputs": [
    {
     "name": "stdout",
     "output_type": "stream",
     "text": [
      "The 95% Confidence Interval of Accuracy is: \n"
     ]
    },
    {
     "data": {
      "text/plain": [
       "(0.9170021510162498, 0.9884523944382957)"
      ]
     },
     "execution_count": 253,
     "metadata": {},
     "output_type": "execute_result"
    }
   ],
   "source": [
    "# 95% Confidence Interval of Accuracy\n",
    "\n",
    "xbar = np.mean(scoreslr)\n",
    "n=10\n",
    "\n",
    "s = np.std(scoreslr,ddof=1)\n",
    "se = s/np.sqrt(n)\n",
    "\n",
    "print('The 95% Confidence Interval of Accuracy is: ')\n",
    "stats.t.interval(0.95,df=n-1,loc=xbar,scale=se)"
   ]
  },
  {
   "cell_type": "markdown",
   "metadata": {},
   "source": [
    "This is only the base model. We can apply advanced Classification models starting from Decision Tree, Ensemble Methods, KNN to XGBoost to improve the model accuracy and stability."
   ]
  },
  {
   "cell_type": "markdown",
   "metadata": {},
   "source": [
    "------------------"
   ]
  }
 ],
 "metadata": {
  "kernelspec": {
   "display_name": "Python 3",
   "language": "python",
   "name": "python3"
  },
  "language_info": {
   "codemirror_mode": {
    "name": "ipython",
    "version": 3
   },
   "file_extension": ".py",
   "mimetype": "text/x-python",
   "name": "python",
   "nbconvert_exporter": "python",
   "pygments_lexer": "ipython3",
   "version": "3.7.6"
  }
 },
 "nbformat": 4,
 "nbformat_minor": 4
}
